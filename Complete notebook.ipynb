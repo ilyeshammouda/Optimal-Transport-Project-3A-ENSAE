{
 "cells": [
  {
   "cell_type": "markdown",
   "id": "eb15c80d",
   "metadata": {},
   "source": [
    "# Implementation "
   ]
  },
  {
   "cell_type": "code",
   "execution_count": 61,
   "id": "23466759",
   "metadata": {},
   "outputs": [],
   "source": [
    "\n",
    "import numpy as np\n",
    "from numpy.linalg import norm\n",
    "from time import time"
   ]
  },
  {
   "cell_type": "code",
   "execution_count": 62,
   "id": "1894a88a",
   "metadata": {},
   "outputs": [],
   "source": [
    "def kernel_cost(gamma, data, reg):\n",
    "\n",
    "    KX2 = data['KX2']\n",
    "    KY2 = data['KY2']\n",
    "    KX3 = data['KX3']\n",
    "    KY3 = data['KY3']\n",
    "\n",
    "    tmp1 = np.mean(KX3) + np.mean(KY3)\n",
    "    tmp2 = (np.mean(KX2, axis=0) + np.mean(KY2, axis=0)) @ gamma\n",
    "    c = (tmp1 - tmp2) / (2 * reg)\n",
    "\n",
    "    return c\n"
   ]
  },
  {
   "cell_type": "code",
   "execution_count": 63,
   "id": "19ece5ca",
   "metadata": {},
   "outputs": [],
   "source": [
    "def gradient(gamma, X, Phi, Q, z, reg1, reg2):\n",
    "    \"\"\"\n",
    "    Compute the gradient of the objective function.\n",
    "\n",
    "    Args:\n",
    "        gamma (np.ndarray): m*1 vector.\n",
    "        X (np.ndarray): m*m matrix.\n",
    "        Phi (np.ndarray): m*m matrix.\n",
    "        Q (np.ndarray): m*m matrix.\n",
    "        z (np.ndarray): m*1 vector.\n",
    "        reg1 (float): Regularization parameter.\n",
    "        reg2 (float): Regularization parameter.\n",
    "\n",
    "    Returns:\n",
    "        g_gamma (np.ndarray): m*1 vector.\n",
    "        g_X (np.ndarray): m*m matrix.\n",
    "    \"\"\"\n",
    "    m = len(z)\n",
    "    H = Phi.T @ X @ Phi\n",
    "    g_gamma = (Q @ gamma - z) / (2 * reg2) - np.diag(H)\n",
    "    g_X = Phi @ np.diag(gamma) @ Phi.T + reg1 * np.eye(m)\n",
    "    return g_gamma, g_X\n"
   ]
  },
  {
   "cell_type": "code",
   "execution_count": 64,
   "id": "16daf0f1",
   "metadata": {},
   "outputs": [],
   "source": [
    "def residue(gamma, X, Phi, Q, z, reg1, reg2):\n",
    "    \"\"\"\n",
    "    Compute the residue of the objective function.\n",
    "\n",
    "    Args:\n",
    "        gamma (np.ndarray): m*1 vector.\n",
    "        X (np.ndarray): m*m matrix.\n",
    "        Phi (np.ndarray): m*m matrix.\n",
    "        Q (np.ndarray): m*m matrix.\n",
    "        z (np.ndarray): m*1 vector.\n",
    "        reg1 (float): Regularization parameter.\n",
    "        reg2 (float): Regularization parameter.\n",
    "\n",
    "    Returns:\n",
    "        r_gamma (np.ndarray): m*1 vector.\n",
    "        r_X (np.ndarray): m*m matrix.\n",
    "    \"\"\"\n",
    "    # Compute the gradient\n",
    "    g_gamma, g_X = gradient(gamma, X, Phi, Q, z, reg1, reg2)  \n",
    "    X_new = X - g_X\n",
    "    V, D = np.linalg.eigh(X_new)\n",
    "    X_new = V @ np.maximum(D, 0) @ V.T\n",
    "    r_X = X - X_new\n",
    "    \n",
    "    return g_gamma, r_X\n"
   ]
  },
  {
   "cell_type": "code",
   "execution_count": 65,
   "id": "6776cd2f",
   "metadata": {},
   "outputs": [],
   "source": [
    "\n",
    "def SSN_main(r_gamma, r_X, gamma, X, mu, Q, Phi, reg1, reg2):\n",
    "    m = len(gamma)\n",
    "\n",
    "    # The first step\n",
    "    Z = X - (Phi @ np.diag(gamma) @ Phi.T + reg1 * np.eye(m))\n",
    "    Sigma, P = np.linalg.eigh(Z)\n",
    "    Sigma = Sigma[::-1]\n",
    "    P = P[:, ::-1]\n",
    "    alpha = np.where(Sigma > 0)[0]\n",
    "    beta = np.where(Sigma <= 0)[0]\n",
    "    Omega = np.zeros((m, m))\n",
    "    Omega[np.ix_(alpha, alpha)] = np.ones(len(alpha))\n",
    "    eta = 1 - np.outer(Sigma[beta], 1/Sigma[alpha])\n",
    "    eta = 1 / eta\n",
    "    Omega[np.ix_(alpha, beta)] = eta.T\n",
    "    Omega[np.ix_(beta, alpha)] = eta\n",
    "    L = Omega / (mu + 1 - Omega)\n",
    "\n",
    "    T = r_X + P @ (L * (P.T @ r_X @ P)) @ P.T\n",
    "    H = Phi.T @ T @ Phi\n",
    "    d_gamma = - r_gamma - np.diag(H) / (1 + mu)\n",
    "    d_X = -r_X\n",
    "\n",
    "    # The second step (CG)\n",
    "    y = d_gamma\n",
    "    K = P.T @ Phi\n",
    "    H = K.T @ (L * (K @ np.diag(y) @ K.T)) @ K\n",
    "    r = d_gamma - ((0.5 / reg2) * Q @ y + mu * y + np.diag(H))\n",
    "    p = r\n",
    "    rr = r.T @ r\n",
    "    for i in range(min(m // 5, 50)):\n",
    "        H = K.T @ (L * (K @ np.diag(p) @ K.T)) @ K\n",
    "        Ap = (0.5 / reg2) * Q @ p + mu * p + np.diag(H)\n",
    "        ss1 = rr / (p.T @ Ap)\n",
    "        y += ss1 * p\n",
    "        r -= ss1 * Ap\n",
    "        if np.linalg.norm(r) < 1e-6:\n",
    "            break\n",
    "        ss2 = r.T @ r / rr\n",
    "        p = r + ss2 * p\n",
    "        H = K.T @ (L * (K @ np.diag(y) @ K.T)) @ K\n",
    "        r = d_gamma - ((0.5 / reg2) * Q @ y + mu * y + np.diag(H))\n",
    "        rr = r.T @ r\n",
    "    d_gamma = y\n",
    "    d_X = (d_X + P @ (L * (P.T @ d_X @ P)) @ P.T) / (1 + mu)\n",
    "\n",
    "    # The third step\n",
    "    d_X -= P @ (L * (K @ np.diag(d_gamma) @ K.T)) @ P.T\n",
    "\n",
    "    return d_gamma, d_X\n"
   ]
  },
  {
   "cell_type": "code",
   "execution_count": null,
   "id": "e4c870f4",
   "metadata": {},
   "outputs": [],
   "source": []
  },
  {
   "cell_type": "code",
   "execution_count": 66,
   "id": "9b485538",
   "metadata": {},
   "outputs": [],
   "source": [
    "def SSN(data, reg1, reg2, verbose):\n",
    "    \"\"\"\n",
    "    Solve the conic optimization model using a semi-smooth Newton method.\n",
    "\n",
    "    Input:\n",
    "    - data: dict, contient les données nécessaires pour le modèle\n",
    "    - reg1: float, régularisation 1\n",
    "    - reg2: float, régularisation 2\n",
    "    - verbose: bool, indique si les détails doivent être imprimés\n",
    "\n",
    "    Output:\n",
    "    - gamma: array, vecteur de taille m\n",
    "    - c: float, coût\n",
    "    - t: float, temps de résolution\n",
    "    - res_time: list, historique du temps de résolution\n",
    "    - res_norm: list, historique de la norme du résidu\n",
    "    \"\"\"\n",
    "    # Input data\n",
    "    M = data['M']\n",
    "    Phi = data['Phi']\n",
    "    KX1 = data['KX1']\n",
    "    KY1 = data['KY1']\n",
    "    KX2 = data['KX2']\n",
    "    KY2 = data['KY2']\n",
    "\n",
    "    # Initialization\n",
    "    m = len(M)\n",
    "    Q = KX1 + KY1\n",
    "    z = np.mean(KX2, axis=0) + np.mean(KY2, axis=0) - 2 * reg2 * M\n",
    "    nIter = 2580\n",
    "    rate = 0.0003\n",
    "\n",
    "    gamma = np.ones(m) /m\n",
    "    v_gamma = gamma \n",
    "    X = np.ones((m, m)) /(m*m)\n",
    "    v_X = X\n",
    "    kappa = 1.5\n",
    "    r_gamma, r_X = residue(gamma, X, Phi, Q, z, reg1, reg2)\n",
    "    mu = norm(r_gamma) + norm(r_X, 'fro')\n",
    "    res_time = [0]\n",
    "    res_norm = [mu]\n",
    "\n",
    "    if verbose:\n",
    "        print('\\n-------------- SSNEG ---------------')\n",
    "        print('iter |  cost  |  residue  |  time')\n",
    "\n",
    "    tstart = time()\n",
    "\n",
    "    # Main loop\n",
    "    for iter in range(1, nIter + 1):\n",
    "        # Compute the residue function\n",
    "        mu = norm(r_gamma) + norm(r_X, 'fro')\n",
    "\n",
    "        # Compute SSN step\n",
    "        d_gamma, d_X = SSN_main(r_gamma, r_X, gamma, X, (m / 5) * kappa * mu, Q, Phi, reg1, reg2)\n",
    "\n",
    "        # Compute EG step\n",
    "        g_gamma, g_x = gradient(v_gamma, v_X, Phi, Q, z, reg1, reg2)\n",
    "        v_gamma_mid = v_gamma - rate * g_gamma\n",
    "        v_X_mid = v_X - rate * g_x\n",
    "        g_gamma, g_x = gradient(v_gamma_mid, v_X_mid, Phi, Q, z, reg1, reg2)\n",
    "        v_gamma = v_gamma - rate * g_gamma\n",
    "        v_X = v_X - rate * g_x\n",
    "\n",
    "        r_gamma_, r_X_ = residue(gamma + d_gamma, X + d_X, Phi, Q, z, reg1, reg2)\n",
    "        r_gamma_v, r_X_v = residue(v_gamma, v_X, Phi, Q, z, reg1, reg2)\n",
    "        \n",
    "        # Compute the next iterate\n",
    "        if (norm(r_gamma_) + norm(r_X_, 'fro')) < (norm(r_gamma_v) + norm(r_X_v, 'fro')):\n",
    "            gamma += d_gamma\n",
    "            X += d_X\n",
    "        else:\n",
    "            gamma = v_gamma\n",
    "            X = v_X\n",
    "\n",
    "        # Update the parameter kappa\n",
    "        r_gamma, r_X = residue(gamma, X, Phi, Q, z, reg1, reg2)\n",
    "        rho = -(np.dot(r_gamma, d_gamma) + np.trace(np.dot(r_X.T, d_X))) / (norm(d_gamma) ** 2 + norm(d_X, 'fro') ** 2)\n",
    "        if rho >= 1:\n",
    "            kappa = max(0.5 * kappa, 1e-16)\n",
    "        elif rho >= 1e-6:\n",
    "            kappa = 1.2 * kappa\n",
    "        else:\n",
    "            kappa = 25 * kappa\n",
    "\n",
    "        if mu < 1e-2:  # 5e-3\n",
    "            c = kernel_cost(gamma, data, reg2)\n",
    "            t = time() - tstart\n",
    "            res_time.append(t)\n",
    "            res_norm.append(mu)\n",
    "            if verbose:\n",
    "                print(f'{iter:5}|{c:3.2e}|{mu:3.2e}|{t:3.2e}')\n",
    "            break\n",
    "\n",
    "        if iter % 10 == 0:\n",
    "            c = kernel_cost(gamma, data, reg2)\n",
    "            t = time() - tstart\n",
    "            res_time.append(t)\n",
    "            res_norm.append(mu)\n",
    "            if verbose:\n",
    "                print(f'{iter:5}|{c:3.2e}|{mu:3.2e}|{t:3.2e}')\n",
    "\n",
    "        c = kernel_cost(gamma, data, reg2)\n",
    "        t = time() - tstart\n",
    "\n",
    "    return gamma, c, t, res_time, res_norm"
   ]
  },
  {
   "cell_type": "markdown",
   "id": "b8fd2f52",
   "metadata": {},
   "source": [
    "## Algorithme provide in the article"
   ]
  },
  {
   "cell_type": "code",
   "execution_count": 67,
   "id": "21ee514f",
   "metadata": {},
   "outputs": [],
   "source": [
    "def SSN(data, alph_1, alph_2, beta_0, beta_1, beta_2, theta_upper,\n",
    "        theta_lower, reg1, reg2, EG_rate, nIter, verbose):\n",
    "\n",
    "    \"\"\"\n",
    "    Solve the conic optimization model using a semi-smooth Newton method.\n",
    "\n",
    "    Input:\n",
    "    - data: dict, contient les données nécessaires pour le modèle\n",
    "    - reg1: float, régularisation 1\n",
    "    - reg2: float, régularisation 2\n",
    "    - verbose: bool, indique si les détails doivent être imprimés\n",
    "\n",
    "    Output:\n",
    "    - gamma: array, vecteur de taille m\n",
    "    - c: float, coût\n",
    "    - t: float, temps de résolution\n",
    "    - res_time: list, historique du temps de résolution\n",
    "    - res_norm: list, historique de la norme du résidu\n",
    "    \"\"\"\n",
    "    # Input data\n",
    "    M = data['M']\n",
    "    Phi = data['Phi']\n",
    "    KX1 = data['KX1']\n",
    "    KY1 = data['KY1']\n",
    "    KX2 = data['KX2']\n",
    "    KY2 = data['KY2']\n",
    "\n",
    "    # Initialization\n",
    "    m = len(M)\n",
    "    Q = KX1 + KY1\n",
    "    z = np.mean(KX2, axis=0) + np.mean(KY2, axis=0) - 2 * reg2 * M\n",
    "\n",
    "    gamma = np.ones(m) /m\n",
    "    v_gamma = gamma \n",
    "    X = np.ones((m, m)) /(m*m)\n",
    "    v_X = X\n",
    "    theta = 1.0    \n",
    "    r_gamma, r_X = residue(gamma, X, Phi, Q, z, reg1, reg2)\n",
    "    mu = theta * (norm(r_gamma) + norm(r_X, 'fro'))\n",
    "    res_time = [0]\n",
    "    res_norm = [mu]\n",
    "\n",
    "    if verbose:\n",
    "        print('\\n-------------- SSNEG ---------------')\n",
    "        print('iter |  cost  |  residue  |  time')\n",
    "    \n",
    "    tstart = time()\n",
    "\n",
    "    # Main loop\n",
    "    for iter in range(1, nIter + 1):\n",
    "\n",
    "        # Compute EG step\n",
    "        g_gamma, g_x = gradient(v_gamma, v_X, Phi, Q, z, reg1, reg2)\n",
    "        v_gamma_mid = v_gamma - EG_rate * g_gamma\n",
    "        v_X_mid = v_X - EG_rate * g_x\n",
    "        g_gamma, g_x = gradient(v_gamma_mid, v_X_mid, Phi, Q, z, reg1, reg2)\n",
    "        v_gamma = v_gamma - EG_rate * g_gamma\n",
    "        v_X = v_X - EG_rate * g_x\n",
    "\n",
    "\n",
    "        # Compute the residue function\n",
    "        mu = norm(r_gamma) + norm(r_X, 'fro')\n",
    "\n",
    "        # Compute SSN step\n",
    "        d_gamma, d_X = SSN_main(r_gamma, r_X, gamma, X,  (m / 5) * theta * mu, Q, Phi, reg1, reg2)\n",
    "\n",
    "        \n",
    "        # Compute the next iterate\n",
    "        r_gamma_, r_X_ = residue(gamma + d_gamma, X + d_X, Phi, Q, z, reg1, reg2)\n",
    "        r_gamma_v, r_X_v = residue(v_gamma, v_X, Phi, Q, z, reg1, reg2)\n",
    "        if (norm(r_gamma_) + norm(r_X_, 'fro')) < (norm(r_gamma_v) + norm(r_X_v, 'fro')):\n",
    "            gamma += d_gamma\n",
    "            X += d_X\n",
    "        else:\n",
    "            gamma = v_gamma\n",
    "            X = v_X\n",
    "\n",
    "        # Update the parameter theta\n",
    "        r_gamma, r_X = residue(gamma, X, Phi, Q, z, reg1, reg2)\n",
    "        rho_div_norm = -(np.dot(r_gamma, d_gamma) + np.trace(np.dot(r_X.T, d_X))) / (norm(d_gamma) ** 2 + norm(d_X, 'fro') ** 2)\n",
    "        if rho_div_norm >= alph_2:\n",
    "            theta = max(beta_0 * theta, theta_lower)\n",
    "        elif rho_div_norm >= alph_1:\n",
    "            theta = beta_1 * theta\n",
    "        else:\n",
    "            theta  = min(theta_upper, beta_2 * theta)\n",
    "\n",
    "        if mu < 5e-3:  # 5e-3\n",
    "            c = kernel_cost(gamma, data, reg2)\n",
    "            t = time() - tstart\n",
    "            res_time.append(t)\n",
    "            res_norm.append(mu)\n",
    "            if verbose:\n",
    "                print(f'{iter:5}|{c:3.2e}|{mu:3.2e}|{t:3.2e}')\n",
    "            break\n",
    "\n",
    "        if iter % 50 == 0:\n",
    "            c = kernel_cost(gamma, data, reg2)\n",
    "            t = time() - tstart\n",
    "            res_time.append(t)\n",
    "            res_norm.append(mu)\n",
    "            if verbose:\n",
    "                print(f'{iter:5}|{c:3.2e}|{mu:3.2e}|{t:3.2e}')\n",
    "\n",
    "        c = kernel_cost(gamma, data, reg2)\n",
    "        t = time() - tstart\n",
    "\n",
    "    return gamma, c, t, res_time, res_norm"
   ]
  },
  {
   "cell_type": "markdown",
   "id": "d0e050e0",
   "metadata": {},
   "source": [
    "# Experiments"
   ]
  },
  {
   "cell_type": "code",
   "execution_count": 68,
   "id": "1aaffb47",
   "metadata": {},
   "outputs": [],
   "source": [
    "%matplotlib inline\n",
    "\n",
    "import numpy as np\n",
    "from scipy.stats import norm as norms\n",
    "\n",
    "import ot\n",
    "\n",
    "import matplotlib.pyplot as plt\n",
    "import matplotlib.gridspec as gridspec\n",
    "\n",
    "\n",
    "### Quasi-random sequences\n",
    "from sobol_seq import i4_sobol_generate\n",
    "\n",
    "### Kernel SoS OT functions\n",
    "from optim import interior_point\n",
    "from utils import make_kernels, transport_cost, transport_1D, potential_1D"
   ]
  },
  {
   "cell_type": "code",
   "execution_count": 69,
   "id": "9a403690",
   "metadata": {},
   "outputs": [],
   "source": [
    "nfill = 50\n",
    "nsamples = 50"
   ]
  },
  {
   "cell_type": "code",
   "execution_count": 70,
   "id": "7b2a6a74",
   "metadata": {},
   "outputs": [],
   "source": [
    "n = 2000\n",
    "\n",
    "mu1 = [0.7, 0.3]\n",
    "mu2 = [0.25, 0.75]\n",
    "\n",
    "\n",
    "t1 = [0.4, 0.6]\n",
    "t2 = [0.6, 0.4]\n",
    "\n",
    "x = np.linspace(0, 1, n)\n",
    "    \n",
    "r_tmp = []    \n",
    "for mode in mu1:\n",
    "    r_tmp.append(norms.pdf(x,mode, 0.09))\n",
    "        \n",
    "c_tmp = []    \n",
    "for mode in mu2:\n",
    "    c_tmp.append(norms.pdf(x,mode, 0.075))\n",
    "        \n",
    "mu = np.dot(t1,r_tmp)\n",
    "nu = np.dot(t2,c_tmp)"
   ]
  },
  {
   "cell_type": "code",
   "execution_count": 71,
   "id": "364bde6f",
   "metadata": {},
   "outputs": [],
   "source": [
    "np.random.seed(123)\n",
    "\n",
    "u1 = np.random.rand(nsamples)\n",
    "u2 = np.random.rand(nsamples)\n",
    "\n",
    "X = np.zeros(nsamples)\n",
    "Y = np.zeros(nsamples)\n",
    "\n",
    "for i in range(nsamples):\n",
    "    if u1[i] < t1[0]:\n",
    "        X[i] = np.random.randn() * .1 + mu1[0]\n",
    "    else:\n",
    "        X[i] = np.random.randn() * .1 + mu1[1]\n",
    "    if u2[i] < t2[0]:\n",
    "        Y[i] = np.random.randn() * .075 + mu2[0]\n",
    "    elif u2[i] < t2[1] + t2[0]:\n",
    "        Y[i] = np.random.randn() * .075 + mu2[1]\n",
    "    else:\n",
    "        Y[i] = np.random.randn() * .075 + mu2[2]"
   ]
  },
  {
   "cell_type": "code",
   "execution_count": 72,
   "id": "0f4f7a83",
   "metadata": {},
   "outputs": [
    {
     "data": {
      "image/png": "[encoded data removed]",
      "text/plain": [
       "<Figure size 640x480 with 1 Axes>"
      ]
     },
     "metadata": {},
     "output_type": "display_data"
    }
   ],
   "source": [
    "x = np.linspace(0, 1, n)\n",
    "\n",
    "f, ax = plt.subplots()\n",
    "\n",
    "ax.plot(x, mu, label = 'mu density')\n",
    "ax.plot(x, nu, label = 'nu density')\n",
    "\n",
    "ax.scatter(X, mu[(n * X).astype(int)], label = 'mu samples')\n",
    "ax.scatter(Y, nu[np.minimum((n * Y).astype(int), n-1)], label = 'nu samples')\n",
    "\n",
    "\n",
    "plt.legend()\n",
    "plt.show()"
   ]
  },
  {
   "cell_type": "code",
   "execution_count": 73,
   "id": "5968082f",
   "metadata": {},
   "outputs": [],
   "source": [
    "### Sobol quasi-random samples to fill the space X x Y. \n",
    "sob = i4_sobol_generate(2 , nfill, skip = 3000)\n",
    "\n",
    "\n",
    "## Add some points in the corners (optional)\n",
    "sob = np.insert(sob, 0, np.array([1e-2, 1e-2]))\n",
    "sob = np.insert(sob, 0, np.array([1-1e-2, 1-1e-2]))\n",
    "sob = np.insert(sob, 0, np.array([1e-2, 1-1e-2]))\n",
    "sob = np.insert(sob, 0, np.array([1.-1e-2, 1e-2]))\n",
    "\n",
    "sob = sob.reshape(-1, 2)[:-4 , :]\n",
    "\n",
    "\n",
    "X_fill = sob[:, :1]\n",
    "Y_fill = sob[:, 1:] "
   ]
  },
  {
   "cell_type": "code",
   "execution_count": 74,
   "id": "247f89fb",
   "metadata": {},
   "outputs": [
    {
     "data": {
      "text/plain": [
       "<matplotlib.collections.PathCollection at 0x20b6066bbc0>"
      ]
     },
     "execution_count": 74,
     "metadata": {},
     "output_type": "execute_result"
    },
    {
     "data": {
      "image/png": "[encoded data removed]",
      "text/plain": [
       "<Figure size 640x480 with 1 Axes>"
      ]
     },
     "metadata": {},
     "output_type": "display_data"
    }
   ],
   "source": [
    "plt.scatter(X_fill, Y_fill)"
   ]
  },
  {
   "cell_type": "code",
   "execution_count": 75,
   "id": "29414137",
   "metadata": {},
   "outputs": [],
   "source": [
    "kernel = 'gaussian'\n",
    "l = .1\n",
    "Phi, M, Kx1, Ky1, Kx2, Ky2, Kx3, Ky3 = make_kernels(X[:, None], Y[:, None], X_fill, Y_fill, l=l, kernel = kernel)"
   ]
  },
  {
   "cell_type": "code",
   "execution_count": 76,
   "id": "db04b97d",
   "metadata": {},
   "outputs": [],
   "source": [
    "data = {}\n",
    "data[\"Phi\"] = Phi\n",
    "data[\"KX1\"] = Kx1\n",
    "data[\"KX2\"] = Kx2\n",
    "data[\"KX3\"] = Kx3\n",
    "data[\"KY1\"] = Ky1\n",
    "data[\"KY2\"] = Ky2\n",
    "data[\"KY3\"] = Ky3\n",
    "data[\"M\"] = M\n"
   ]
  },
  {
   "cell_type": "code",
   "execution_count": 77,
   "id": "95cf2def",
   "metadata": {},
   "outputs": [],
   "source": [
    "## Regularization parameters\n",
    "\n",
    "lbda_1 = 1 / nfill\n",
    "lbda_2 =  1 / np.sqrt(nsamples)"
   ]
  },
  {
   "cell_type": "code",
   "execution_count": 78,
   "id": "66ed2587",
   "metadata": {},
   "outputs": [
    {
     "name": "stdout",
     "output_type": "stream",
     "text": [
      "\n",
      "-------------- SSNEG ---------------\n",
      "iter |  cost  |  residue  |  time\n",
      "   50|3.24e-01|1.03e+01|3.00e-01\n",
      "  100|2.45e-01|1.07e+01|5.39e-01\n",
      "  150|2.07e-01|9.17e+00|8.14e-01\n",
      "  200|1.84e-01|1.05e+01|1.12e+00\n",
      "  250|1.69e-01|8.27e+00|1.35e+00\n",
      "  300|1.59e-01|1.26e+01|1.63e+00\n",
      "  350|1.52e-01|8.44e+00|1.88e+00\n",
      "  400|1.47e-01|1.29e+01|2.11e+00\n",
      "  450|1.44e-01|1.37e+01|2.30e+00\n",
      "  500|2.33e-01|2.89e+00|2.53e+00\n",
      "  550|3.15e-01|3.03e+00|2.77e+00\n",
      "  600|3.15e-01|2.97e+00|2.97e+00\n",
      "  650|2.26e-01|4.74e+00|3.21e+00\n",
      "  700|2.26e-01|1.46e+00|3.43e+00\n",
      "  750|2.26e-01|3.44e+00|3.64e+00\n",
      "  800|2.26e-01|5.56e+00|3.87e+00\n",
      "  850|2.26e-01|5.33e+00|4.09e+00\n",
      "  900|1.40e-01|8.54e+00|4.31e+00\n",
      "  950|1.41e-01|7.35e+00|4.54e+00\n",
      " 1000|1.42e-01|1.02e+01|4.74e+00\n",
      " 1050|1.44e-01|8.70e+00|4.94e+00\n",
      " 1100|1.45e-01|7.40e+00|5.15e+00\n",
      " 1150|1.47e-01|1.45e+01|5.43e+00\n",
      " 1200|1.48e-01|1.47e+01|5.63e+00\n",
      " 1250|1.50e-01|9.43e+00|5.82e+00\n",
      " 1300|1.52e-01|1.57e+01|6.01e+00\n",
      " 1350|1.54e-01|1.53e+01|6.21e+00\n",
      " 1400|1.56e-01|1.58e+01|6.60e+00\n",
      " 1450|1.08e-01|1.53e+00|6.81e+00\n",
      " 1500|1.60e-01|4.39e+00|7.00e+00\n",
      " 1550|1.62e-01|4.09e+00|7.20e+00\n",
      " 1600|1.64e-01|4.22e+00|7.41e+00\n",
      " 1650|1.66e-01|4.04e+00|7.79e+00\n",
      " 1700|1.69e-01|1.57e+01|7.99e+00\n",
      " 1750|1.71e-01|1.60e+01|8.27e+00\n",
      " 1800|1.73e-01|3.46e+01|8.50e+00\n",
      " 1850|1.76e-01|3.51e+01|8.70e+00\n",
      " 1900|1.78e-01|3.59e+01|8.90e+00\n",
      " 1950|1.81e-01|1.36e+01|9.09e+00\n",
      " 2000|1.83e-01|1.20e+01|9.29e+00\n"
     ]
    }
   ],
   "source": [
    "gamma, c, t, res_time, res_norm = SSN(data, alph_1 = 1e-6, alph_2 =1, beta_0 = 0.5, beta_1 = 1.2 ,\n",
    "                                       beta_2 = 5, theta_upper = 50,theta_lower = 1e-16, reg1 = lbda_1, \n",
    "                                       reg2 = lbda_2, EG_rate = 0.0003, nIter = 2000, verbose = True)"
   ]
  },
  {
   "cell_type": "code",
   "execution_count": 79,
   "id": "5addd020",
   "metadata": {},
   "outputs": [
    {
     "data": {
      "text/plain": [
       "0.1832091516242049"
      ]
     },
     "execution_count": 79,
     "metadata": {},
     "output_type": "execute_result"
    }
   ],
   "source": [
    "kernel_sos_ot = transport_cost(gamma, Kx2, Kx3, Ky2, Ky3, lbda_2, product_sampling=False)\n",
    "kernel_sos_ot"
   ]
  },
  {
   "cell_type": "code",
   "execution_count": 80,
   "id": "399a3f6d",
   "metadata": {},
   "outputs": [],
   "source": [
    "### Compute OT from samples\n",
    "x = np.linspace(0., 1., n)\n",
    "\n",
    "M_ot = ((x[:, None] - x)**2) / 2\n",
    "P, log = ot.emd(mu / mu.sum(), nu / nu.sum(), M_ot, log = True)\n",
    "sampled_ot = (P * M_ot).sum()"
   ]
  },
  {
   "cell_type": "code",
   "execution_count": 81,
   "id": "7dd5bebc",
   "metadata": {},
   "outputs": [
    {
     "name": "stdout",
     "output_type": "stream",
     "text": [
      "Plugin estimator (n=2000): 1.308e-03\n",
      "Kernel SoS estimator (n=50, l=50): 1.832e-01\n"
     ]
    }
   ],
   "source": [
    "print(f\"Plugin estimator (n={n}): {sampled_ot:.3e}\\nKernel SoS estimator (n={nsamples}, l={nfill}): {kernel_sos_ot:.3e}\")"
   ]
  },
  {
   "cell_type": "code",
   "execution_count": 82,
   "id": "294c3bab",
   "metadata": {},
   "outputs": [
    {
     "data": {
      "text/plain": [
       "<Figure size 640x480 with 0 Axes>"
      ]
     },
     "metadata": {},
     "output_type": "display_data"
    },
    {
     "data": {
      "image/png": "[encoded data removed]",
      "text/plain": [
       "<Figure size 500x500 with 3 Axes>"
      ]
     },
     "metadata": {},
     "output_type": "display_data"
    }
   ],
   "source": [
    "import matplotlib.gridspec as gridspec\n",
    "\n",
    "plt.clf()\n",
    "\n",
    "fig = plt.figure(figsize=(5, 5))\n",
    "\n",
    "gs = gridspec.GridSpec(3, 3, wspace=0.0, hspace=0.0)\n",
    "\n",
    "xp, yp = np.where(P > 0)\n",
    "\n",
    "na, nb = P.shape\n",
    "\n",
    "xa = np.arange(na)\n",
    "xb = np.arange(nb)\n",
    "\n",
    "Txa = np.argmax(P, 1)\n",
    "\n",
    "\n",
    "ax1 = plt.subplot(gs[0, 1:])\n",
    "ax1.plot(xa, mu,  'r', label='Source distribution')\n",
    "ax1.fill_between(xa, mu, color = 'red', alpha=.1)\n",
    "plt.ylim(ymin=0)\n",
    "plt.tick_params(axis='both', which='both', bottom=False, top=False, labelbottom=False, right=False, left=False, labelleft=False)\n",
    "ax1.axis('off')\n",
    "\n",
    "ax2 = plt.subplot(gs[1:, 0])\n",
    "ax2.plot((nu), xb, 'b', label='Target distribution')\n",
    "ax2.fill_between((nu)[:], xb[:], color = 'blue', interpolate=True, alpha = .1)\n",
    "ax2.set_xlim(xmin=0)\n",
    "ax2.invert_xaxis()\n",
    "\n",
    "ax2.axis('off')\n",
    "\n",
    "\n",
    "ax3 = plt.subplot(gs[1:, 1:], sharex=ax1, sharey=ax2)\n",
    "ax3.tick_params(axis='both', which='both', bottom=False, top=False, labelbottom=False, right=False, left=False, labelleft=False)\n",
    "\n",
    "ax3.plot(xa, Txa , linewidth = 2, color = 'black', ls ='--', label='True map')\n",
    "\n",
    "x = np.linspace(0, 1, len(xa)) \n",
    "TX = transport_1D(x, gamma, X, X_fill, lbda_2, kernel=kernel, l=l) \n",
    "\n",
    "ax3.plot(xa, TX * na, color = 'r', lw =2, label = 'Inferred map')\n",
    "\n",
    "ax1.scatter(X * na, mu[(n * X).astype(int)], label = 'mu samples', marker = 'x', color = 'r', s=50)\n",
    "ax2.scatter( nu[np.minimum((n * Y).astype(int), n-1)], Y * na, \n",
    "            label = 'nu samples', marker = 'x', color = 'b', s = 50)\n",
    "\n",
    "\n",
    "ax3.scatter(sob[:, 0] * na, sob[:, 1] * na, color = 'violet', s =20, label = 'Filling samples')\n",
    "\n",
    "    \n",
    "plt.tight_layout()\n",
    "plt.legend(fontsize = 14)\n",
    "\n",
    "plt.show()"
   ]
  }
 ],
 "metadata": {
  "kernelspec": {
   "display_name": "Python 3 (ipykernel)",
   "language": "python",
   "name": "python3"
  },
  "language_info": {
   "codemirror_mode": {
    "name": "ipython",
    "version": 3
   },
   "file_extension": ".py",
   "mimetype": "text/x-python",
   "name": "python",
   "nbconvert_exporter": "python",
   "pygments_lexer": "ipython3",
   "version": "3.12.0"
  },
  "varInspector": {
   "cols": {
    "lenName": 16,
    "lenType": 16,
    "lenVar": 40
   },
   "kernels_config": {
    "python": {
     "delete_cmd_postfix": "",
     "delete_cmd_prefix": "del ",
     "library": "var_list.py",
     "varRefreshCmd": "print(var_dic_list())"
    },
    "r": {
     "delete_cmd_postfix": ") ",
     "delete_cmd_prefix": "rm(",
     "library": "var_list.r",
     "varRefreshCmd": "cat(var_dic_list()) "
    }
   },
   "types_to_exclude": [
    "module",
    "function",
    "builtin_function_or_method",
    "instance",
    "_Feature"
   ],
   "window_display": false
  }
 },
 "nbformat": 4,
 "nbformat_minor": 5
}

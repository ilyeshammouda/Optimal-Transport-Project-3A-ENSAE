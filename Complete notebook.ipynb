{
 "cells": [
  {
   "cell_type": "markdown",
   "id": "eb15c80d",
   "metadata": {},
   "source": [
    "# Implementation "
   ]
  },
  {
   "cell_type": "code",
   "execution_count": 21,
   "id": "23466759",
   "metadata": {},
   "outputs": [],
   "source": [
    "\n",
    "import numpy as np\n",
    "from numpy.linalg import norm\n",
    "from time import time"
   ]
  },
  {
   "cell_type": "code",
   "execution_count": 22,
   "id": "1894a88a",
   "metadata": {},
   "outputs": [],
   "source": [
    "def kernel_cost(gamma, data, reg):\n",
    "\n",
    "    KX2 = data['KX2']\n",
    "    KY2 = data['KY2']\n",
    "    KX3 = data['KX3']\n",
    "    KY3 = data['KY3']\n",
    "\n",
    "    tmp1 = np.mean(KX3) + np.mean(KY3)\n",
    "    tmp2 = (np.mean(KX2, axis=0) + np.mean(KY2, axis=0)) @ gamma\n",
    "    c = (tmp1 - tmp2) / (2 * reg)\n",
    "\n",
    "    return c\n"
   ]
  },
  {
   "cell_type": "code",
   "execution_count": 23,
   "id": "19ece5ca",
   "metadata": {},
   "outputs": [],
   "source": [
    "def gradient(gamma, X, Phi, Q, z, reg1, reg2):\n",
    "    \"\"\"\n",
    "    Compute the gradient of the objective function.\n",
    "\n",
    "    Args:\n",
    "        gamma (np.ndarray): m*1 vector.\n",
    "        X (np.ndarray): m*m matrix.\n",
    "        Phi (np.ndarray): m*m matrix.\n",
    "        Q (np.ndarray): m*m matrix.\n",
    "        z (np.ndarray): m*1 vector.\n",
    "        reg1 (float): Regularization parameter.\n",
    "        reg2 (float): Regularization parameter.\n",
    "\n",
    "    Returns:\n",
    "        g_gamma (np.ndarray): m*1 vector.\n",
    "        g_X (np.ndarray): m*m matrix.\n",
    "    \"\"\"\n",
    "    m = len(z)\n",
    "    H = Phi.T @ X @ Phi\n",
    "    g_gamma = (Q @ gamma - z) / (2 * reg2) - np.diag(H)\n",
    "    g_X = Phi @ np.diag(gamma) @ Phi.T + reg1 * np.eye(m)\n",
    "    return g_gamma, g_X\n"
   ]
  },
  {
   "cell_type": "code",
   "execution_count": 24,
   "id": "16daf0f1",
   "metadata": {},
   "outputs": [],
   "source": [
    "def residue(gamma, X, Phi, Q, z, reg1, reg2):\n",
    "    \"\"\"\n",
    "    Compute the residue of the objective function.\n",
    "\n",
    "    Args:\n",
    "        gamma (np.ndarray): m*1 vector.\n",
    "        X (np.ndarray): m*m matrix.\n",
    "        Phi (np.ndarray): m*m matrix.\n",
    "        Q (np.ndarray): m*m matrix.\n",
    "        z (np.ndarray): m*1 vector.\n",
    "        reg1 (float): Regularization parameter.\n",
    "        reg2 (float): Regularization parameter.\n",
    "\n",
    "    Returns:\n",
    "        r_gamma (np.ndarray): m*1 vector.\n",
    "        r_X (np.ndarray): m*m matrix.\n",
    "    \"\"\"\n",
    "    # Compute the gradient\n",
    "    g_gamma, g_X = gradient(gamma, X, Phi, Q, z, reg1, reg2)  \n",
    "    X_new = X - g_X\n",
    "    V, D = np.linalg.eig(X_new)\n",
    "    X_new = V @ np.maximum(D, 0) @ V.T\n",
    "    r_gamma = gamma - g_gamma\n",
    "    r_X = X - X_new\n",
    "    \n",
    "    return r_gamma, r_X\n"
   ]
  },
  {
   "cell_type": "code",
   "execution_count": 25,
   "id": "57d37c90",
   "metadata": {},
   "outputs": [],
   "source": [
    "def build_A_matrix(Phi):\n",
    "    '''\n",
    "    Given a matrix Phi, this function constructs the matrix A as given in page 8 of the article.\n",
    "    '''\n",
    "    n = Phi.shape[1]\n",
    "\n",
    "    # Initialize the A matrix with appropriate size\n",
    "    A = np.zeros((n, n*n))\n",
    "\n",
    "    # Build the L matrix\n",
    "    for i in range(n):\n",
    "        col_i = Phi[:, i]  # Select column i of Phi\n",
    "        A[i, :] = np.ravel(np.kron(col_i.T, col_i.T))\n",
    "    return A\n"
   ]
  },
  {
   "cell_type": "code",
   "execution_count": 48,
   "id": "6776cd2f",
   "metadata": {},
   "outputs": [],
   "source": [
    "def SSN_main(r_gamma, r_X, gamma, X, mu, Q, Phi, reg1, reg2):\n",
    "    m = len(gamma)\n",
    "\n",
    "    # The first step\n",
    "    Z = X - (Phi @ np.diag(gamma) @ Phi.T + reg1 * np.eye(m))\n",
    "    Sigma, P = np.linalg.eigh(Z)\n",
    "    Sigma = Sigma[::-1]\n",
    "    P = P[:, ::-1]\n",
    "    alpha = np.where(np.diag(Sigma) > 0)[0]\n",
    "    beta = np.where(np.diag(Sigma) <= 0)[0]\n",
    "    Omega = np.zeros((m, m))\n",
    "    Omega[np.ix_(alpha, alpha)] = np.ones(len(alpha))\n",
    "    eta = 1 - np.outer(sigma[beta], 1/sigma[alpha])\n",
    "    eta = 1 / eta\n",
    "    Omega[np.ix_(alpha, beta)] = eta\n",
    "    Omega[np.ix_(beta, alpha)] = eta.T\n",
    "    L = Omega / (mu + 1 - Omega)\n",
    "\n",
    "    T = r_X + P @ (L * (P.T @ r_X @ P)) @ P.T\n",
    "    H = Phi.T @ T @ Phi\n",
    "    d_gamma = - r_gamma - np.diag(H) / (1 + mu)\n",
    "    d_X = -r_X\n",
    "\n",
    "    # The second step (CG)\n",
    "    y = d_gamma\n",
    "    K = P.T @ Phi\n",
    "    H = K.T @ (L * (K @ np.diag(y) @ K.T)) @ K\n",
    "    r = d_gamma - ((0.5 / reg2) * Q @ y + mu * y + np.diag(H))\n",
    "    p = r\n",
    "    rr = r.T @ r\n",
    "    for i in range(min(m // 5, 50)):\n",
    "        H = K.T @ (L * (K @ np.diag(p) @ K.T)) @ K\n",
    "        Ap = (0.5 / reg2) * Q @ p + mu * p + np.diag(H)\n",
    "        ss1 = rr / (p.T @ Ap)\n",
    "        y += ss1 * p\n",
    "        r -= ss1 * Ap\n",
    "        if np.linalg.norm(r) < 1e-6:\n",
    "            break\n",
    "        ss2 = r.T @ r / rr\n",
    "        p = r + ss2 * p\n",
    "        H = K.T @ (L * (K @ np.diag(y) @ K.T)) @ K\n",
    "        r = d_gamma - ((0.5 / reg2) * Q @ y + mu * y + np.diag(H))\n",
    "        rr = r.T @ r\n",
    "    d_gamma = y\n",
    "    d_X = (d_X + P @ (L * (P.T @ d_X @ P)) @ P.T) / (1 + mu)\n",
    "\n",
    "    # The third step\n",
    "    d_X -= P @ (L * (K @ np.diag(d_gamma) @ K.T)) @ P.T\n",
    "\n",
    "    return d_gamma, d_X"
   ]
  },
  {
   "cell_type": "code",
   "execution_count": null,
   "id": "e4c870f4",
   "metadata": {},
   "outputs": [],
   "source": [
    "def SSN_main(r_gamma, r_X, gamma, X, mu, Q, Phi, reg1, reg2, A):\n",
    "    \"\"\"\n",
    "    Compute the SSN step.\n",
    "\n",
    "    Args:\n",
    "        r_gamma (np.ndarray): m*1 vector.\n",
    "        r_X (np.ndarray): m*m matrix.\n",
    "        gamma (np.ndarray): m*1 vector.\n",
    "        X (np.ndarray): m*m matrix.\n",
    "        mu (float): Scalar.\n",
    "        Q (np.ndarray): m*m matrix.\n",
    "        Phi (np.ndarray): m*m matrix.\n",
    "        reg1 (float): Regularization parameter.\n",
    "        reg2 (float): Regularization parameter.\n",
    "\n",
    "    Returns:\n",
    "        d_gamma (np.ndarray): m*1 vector.\n",
    "        d_X (np.ndarray): m*m matrix.\n",
    "    \"\"\"\n",
    "    m = len(gamma)\n",
    "\n",
    "    # First step\n",
    "    # Calcul de Z\n",
    "    Z = X - (Phi @ np.diag(gamma) @ Phi.T + reg1 * np.eye(m))\n",
    "\n",
    "\n",
    "    sigma, P = np.linalg.eigh(Z)\n",
    "    alpha = sigma[sigma > 0]\n",
    "    beta = sigma[sigma <= 0]\n",
    "    n = len(alpha)\n",
    "\n",
    "   # Construction de la matrice Omega\n",
    "    Omega = np.zeros((m, m))\n",
    "    Omega[:n, :n] = 1 \n",
    "    eta = alpha[:, np.newaxis] / (alpha[:, np.newaxis] - beta)\n",
    "    Omega[:n, n:] = eta  \n",
    "    Omega[n:, :n] = eta.T  \n",
    "\n",
    "    diagonal = np.ravel(Omega.T)\n",
    "    L = np.diag(diagonal) / (mu + 1 - diagonal)\n",
    "\n",
    "    Psi = np.zeros((m, m))\n",
    "    eps = eta/(mu+1-eta)\n",
    "    Psi[:n, :n] = (1/mu)*np.ones((n, n))\n",
    "    Psi[:n, n:] = eps \n",
    "    Psi[n:, :n] = eps.T\n",
    "    \n",
    "    # Calcul de a1 et a2 (d_gamma, d_X) \n",
    "    T = r_X + P @ (Psi * (P.T @ r_X @ P)) @ P.T \n",
    "    H = Phi.T @ T @ Phi\n",
    "    d_gamma = -r_gamma - np.diag(H) / (1 + mu)\n",
    "    d_X = -r_X\n",
    "\n",
    "\n",
    "\n",
    "    # Second step (CG)\n",
    "    d_X = (d_X + P @ (Psi * (P.T @ d_X @ P)) @ P.T ) / (1 + mu)\n",
    "    \n",
    "    P_ = np.kron(P, P)\n",
    "    M_ = 0.5 * Q/reg2 + mu * np.eye(m) + A @ (P_ @ L @ P_.T) @ A.T\n",
    "    x_0 = d_gamma\n",
    "    r = d_gamma - M_ @ x_0 \n",
    "    p = r\n",
    "    rr = r @ r.T\n",
    "    for _ in range(min(m // 5, 50)):\n",
    "        Ap = M_ @ p\n",
    "        ss1 = rr / (p @ Ap.T)\n",
    "        x_0 = x_0 + ss1 * p\n",
    "        r = r - ss1 * Ap\n",
    "        print(\"residu\", np.linalg.norm(r))\n",
    "        if np.linalg.norm(r) < 1e-6:\n",
    "            break\n",
    "        ss2 = r @ r.T / rr\n",
    "        p = r + ss2 * p\n",
    "        rr = r @ r.T\n",
    "    d_gamma = x_0\n",
    "    \n",
    "\n",
    "    # Third step\n",
    "    phi_start_a1 = Phi @ np.diag(d_gamma) @ Phi.T\n",
    "    d_X = d_X - (P @ (Psi * (P.T @ phi_start_a1@ P)) @ P.T)\n",
    "\n",
    "    return d_gamma, d_X\n"
   ]
  },
  {
   "cell_type": "code",
   "execution_count": 27,
   "id": "9b485538",
   "metadata": {},
   "outputs": [],
   "source": [
    "def SSN(data, reg1, reg2, verbose):\n",
    "    \"\"\"\n",
    "    Solve the conic optimization model using a semi-smooth Newton method.\n",
    "\n",
    "    Input:\n",
    "    - data: dict, contient les données nécessaires pour le modèle\n",
    "    - reg1: float, régularisation 1\n",
    "    - reg2: float, régularisation 2\n",
    "    - verbose: bool, indique si les détails doivent être imprimés\n",
    "\n",
    "    Output:\n",
    "    - gamma: array, vecteur de taille m\n",
    "    - c: float, coût\n",
    "    - t: float, temps de résolution\n",
    "    - res_time: list, historique du temps de résolution\n",
    "    - res_norm: list, historique de la norme du résidu\n",
    "    \"\"\"\n",
    "    # Input data\n",
    "    M = data['M']\n",
    "    Phi = data['Phi']\n",
    "    KX1 = data['KX1']\n",
    "    KY1 = data['KY1']\n",
    "    KX2 = data['KX2']\n",
    "    KY2 = data['KY2']\n",
    "\n",
    "    # Initialization\n",
    "    m = len(M)\n",
    "    Q = KX1 + KY1\n",
    "    z = np.mean(KX2, axis=0) + np.mean(KY2, axis=0) - 2 * reg2 * M\n",
    "    nIter = 1000\n",
    "\n",
    "    gamma = np.ones(m) /m\n",
    "    X = np.ones((m, m)) /(m*m)\n",
    "    kappa = 1.0\n",
    "    r_gamma, r_X = residue(gamma, X, Phi, Q, z, reg1, reg2)\n",
    "    mu = norm(r_gamma) + norm(r_X, 'fro')\n",
    "    res_time = [0]\n",
    "    res_norm = [mu]\n",
    "\n",
    "    if verbose:\n",
    "        print('\\n-------------- SSNEG ---------------')\n",
    "        print('iter |  cost  |  residue  |  time')\n",
    "\n",
    "    tstart = time()\n",
    "\n",
    "    # Main loop\n",
    "    for iter in range(1, nIter + 1):\n",
    "        # Compute the residue function\n",
    "        mu = norm(r_gamma) + norm(r_X, 'fro')\n",
    "\n",
    "        # Compute SSN step\n",
    "        d_gamma, d_X = SSN_main(r_gamma, r_X, gamma, X, (m / 5) * kappa * mu, Q, Phi, reg1, reg2)\n",
    "\n",
    "        # Compute the next iterate\n",
    "        gamma += d_gamma\n",
    "        X += d_X\n",
    "\n",
    "        # Update the parameter kappa\n",
    "        r_gamma, r_X = residue(gamma, X, Phi, Q, z, reg1, reg2)\n",
    "        rho = -(np.dot(r_gamma, d_gamma) + np.trace(np.dot(r_X.T, d_X))) / (norm(d_gamma) ** 2 + norm(d_X, 'fro') ** 2)\n",
    "        if rho >= 1:\n",
    "            kappa = max(0.5 * kappa, 1e-16)\n",
    "        elif rho >= 1e-6:\n",
    "            kappa = 1.2 * kappa\n",
    "        else:\n",
    "            kappa = 25 * kappa\n",
    "\n",
    "        if mu < 1e-8:  # 5e-3\n",
    "            c = kernel_cost(gamma, data, reg2)\n",
    "            t = time() - tstart\n",
    "            res_time.append(t)\n",
    "            res_norm.append(mu)\n",
    "            if verbose:\n",
    "                print(f'{iter:5}|{c:3.2e}|{mu:3.2e}|{t:3.2e}')\n",
    "            break\n",
    "\n",
    "        if iter % 2 == 0:\n",
    "            c = kernel_cost(gamma, data, reg2)\n",
    "            t = time() - tstart\n",
    "            res_time.append(t)\n",
    "            res_norm.append(mu)\n",
    "            if verbose:\n",
    "                print(f'{iter:5}|{c:3.2e}|{mu:3.2e}|{t:3.2e}')\n",
    "\n",
    "        c = kernel_cost(gamma, data, reg2)\n",
    "        t = time() - tstart\n",
    "\n",
    "    return gamma, c, t, res_time, res_norm"
   ]
  },
  {
   "cell_type": "markdown",
   "id": "d0e050e0",
   "metadata": {},
   "source": [
    "# Experiments"
   ]
  },
  {
   "cell_type": "code",
   "execution_count": 28,
   "id": "1aaffb47",
   "metadata": {},
   "outputs": [],
   "source": [
    "%matplotlib inline\n",
    "\n",
    "import numpy as np\n",
    "from scipy.stats import norm as norms\n",
    "\n",
    "import ot\n",
    "\n",
    "import matplotlib.pyplot as plt\n",
    "import matplotlib.gridspec as gridspec\n",
    "\n",
    "\n",
    "### Quasi-random sequences\n",
    "from sobol_seq import i4_sobol_generate\n",
    "\n",
    "### Kernel SoS OT functions\n",
    "from optim import interior_point\n",
    "from utils import make_kernels, transport_cost, transport_1D, potential_1D"
   ]
  },
  {
   "cell_type": "code",
   "execution_count": 29,
   "id": "9a403690",
   "metadata": {},
   "outputs": [],
   "source": [
    "nfill = 100\n",
    "nsamples = 100"
   ]
  },
  {
   "cell_type": "code",
   "execution_count": 30,
   "id": "7b2a6a74",
   "metadata": {},
   "outputs": [],
   "source": [
    "n = 2000\n",
    "\n",
    "mu1 = [0.7, 0.3]\n",
    "mu2 = [0.2, 0.5, 0.75]\n",
    "\n",
    "\n",
    "t1 = [0.4, 0.6]\n",
    "t2 = [0.2, 0.2, 0.6]\n",
    "\n",
    "x = np.linspace(0, 1, n)\n",
    "    \n",
    "r_tmp = []    \n",
    "for mode in mu1:\n",
    "    r_tmp.append(norms.pdf(x,mode, 0.09))\n",
    "        \n",
    "c_tmp = []    \n",
    "for mode in mu2:\n",
    "    c_tmp.append(norms.pdf(x,mode, 0.075))\n",
    "        \n",
    "mu = np.dot(t1,r_tmp)\n",
    "nu = np.dot(t2,c_tmp)"
   ]
  },
  {
   "cell_type": "code",
   "execution_count": 31,
   "id": "364bde6f",
   "metadata": {},
   "outputs": [],
   "source": [
    "np.random.seed(123)\n",
    "\n",
    "u1 = np.random.rand(nsamples)\n",
    "u2 = np.random.rand(nsamples)\n",
    "\n",
    "X = np.zeros(nsamples)\n",
    "Y = np.zeros(nsamples)\n",
    "\n",
    "for i in range(nsamples):\n",
    "    if u1[i] < t1[0]:\n",
    "        X[i] = np.random.randn() * .1 + mu1[0]\n",
    "    else:\n",
    "        X[i] = np.random.randn() * .1 + mu1[1]\n",
    "    if u2[i] < t2[0]:\n",
    "        Y[i] = np.random.randn() * .075 + mu2[0]\n",
    "    elif u2[i] < t2[1] + t2[0]:\n",
    "        Y[i] = np.random.randn() * .075 + mu2[1]\n",
    "    else:\n",
    "        Y[i] = np.random.randn() * .075 + mu2[2]"
   ]
  },
  {
   "cell_type": "code",
   "execution_count": 32,
   "id": "0f4f7a83",
   "metadata": {},
   "outputs": [
    {
     "data": {
      "image/png": "[encoded data removed]",
      "text/plain": [
       "<Figure size 640x480 with 1 Axes>"
      ]
     },
     "metadata": {},
     "output_type": "display_data"
    }
   ],
   "source": [
    "x = np.linspace(0, 1, n)\n",
    "\n",
    "f, ax = plt.subplots()\n",
    "\n",
    "ax.plot(x, mu, label = 'mu density')\n",
    "ax.plot(x, nu, label = 'nu density')\n",
    "\n",
    "ax.scatter(X, mu[(n * X).astype(int)], label = 'mu samples')\n",
    "ax.scatter(Y, nu[np.minimum((n * Y).astype(int), n-1)], label = 'nu samples')\n",
    "\n",
    "\n",
    "plt.legend()\n",
    "plt.show()"
   ]
  },
  {
   "cell_type": "code",
   "execution_count": 33,
   "id": "5968082f",
   "metadata": {},
   "outputs": [],
   "source": [
    "### Sobol quasi-random samples to fill the space X x Y. \n",
    "sob = i4_sobol_generate(2 , nfill, skip = 3000)\n",
    "\n",
    "\n",
    "## Add some points in the corners (optional)\n",
    "sob = np.insert(sob, 0, np.array([1e-2, 1e-2]))\n",
    "sob = np.insert(sob, 0, np.array([1-1e-2, 1-1e-2]))\n",
    "sob = np.insert(sob, 0, np.array([1e-2, 1-1e-2]))\n",
    "sob = np.insert(sob, 0, np.array([1.-1e-2, 1e-2]))\n",
    "\n",
    "sob = sob.reshape(-1, 2)[:-4 , :]\n",
    "\n",
    "\n",
    "X_fill = sob[:, :1]\n",
    "Y_fill = sob[:, 1:] "
   ]
  },
  {
   "cell_type": "code",
   "execution_count": 34,
   "id": "247f89fb",
   "metadata": {},
   "outputs": [
    {
     "data": {
      "text/plain": [
       "<matplotlib.collections.PathCollection at 0x1f1702b4cb0>"
      ]
     },
     "execution_count": 34,
     "metadata": {},
     "output_type": "execute_result"
    },
    {
     "data": {
      "image/png": "[encoded data removed]",
      "text/plain": [
       "<Figure size 640x480 with 1 Axes>"
      ]
     },
     "metadata": {},
     "output_type": "display_data"
    }
   ],
   "source": [
    "plt.scatter(X_fill, Y_fill)"
   ]
  },
  {
   "cell_type": "code",
   "execution_count": 35,
   "id": "29414137",
   "metadata": {},
   "outputs": [],
   "source": [
    "kernel = 'gaussian'\n",
    "l = .1\n",
    "Phi, M, Kx1, Ky1, Kx2, Ky2, Kx3, Ky3 = make_kernels(X[:, None], Y[:, None], X_fill, Y_fill, l=l, kernel = kernel)"
   ]
  },
  {
   "cell_type": "code",
   "execution_count": 36,
   "id": "db04b97d",
   "metadata": {},
   "outputs": [],
   "source": [
    "data = {}\n",
    "data[\"Phi\"] = Phi\n",
    "data[\"KX1\"] = Kx1\n",
    "data[\"KX2\"] = Kx2\n",
    "data[\"KX3\"] = Kx3\n",
    "data[\"KY1\"] = Ky1\n",
    "data[\"KY2\"] = Ky2\n",
    "data[\"KY3\"] = Ky3\n",
    "data[\"M\"] = M\n"
   ]
  },
  {
   "cell_type": "code",
   "execution_count": 37,
   "id": "95cf2def",
   "metadata": {},
   "outputs": [],
   "source": [
    "## Regularization parameters\n",
    "\n",
    "lbda_1 = 1 / nfill\n",
    "lbda_2 =  1 / nsamples\n",
    "\n",
    "\n",
    "## Optimization problem parameters\n",
    "\n",
    "eps_start = nfill\n",
    "eps_end = 1e-8\n",
    "\n",
    "tau = 1e-8\n",
    "\n",
    "niter = 1000"
   ]
  },
  {
   "cell_type": "code",
   "execution_count": 40,
   "id": "a37f6670",
   "metadata": {},
   "outputs": [],
   "source": [
    "Z = np.array([[1, 2, 3], [2, 2, 4], [3, 4, 0]])\n",
    "m = 3"
   ]
  },
  {
   "cell_type": "code",
   "execution_count": 45,
   "id": "f0669943",
   "metadata": {},
   "outputs": [
    {
     "data": {
      "text/plain": [
       "array([2], dtype=int64)"
      ]
     },
     "execution_count": 45,
     "metadata": {},
     "output_type": "execute_result"
    }
   ],
   "source": [
    "alpha"
   ]
  },
  {
   "cell_type": "code",
   "execution_count": 43,
   "id": "f057701a",
   "metadata": {},
   "outputs": [
    {
     "name": "stdout",
     "output_type": "stream",
     "text": [
      "[-3.52810771 -0.55984211  7.08794983]\n",
      "[2]\n"
     ]
    },
    {
     "name": "stderr",
     "output_type": "stream",
     "text": [
      "C:\\Users\\frank\\AppData\\Local\\Temp\\ipykernel_3796\\1379949099.py:9: RuntimeWarning: divide by zero encountered in divide\n",
      "  eta = 1 - np.outer(sigma[beta], 1/sigma[alpha])\n",
      "c:\\Users\\frank\\.conda\\envs\\Pythonbest\\Lib\\site-packages\\numpy\\core\\numeric.py:925: RuntimeWarning: invalid value encountered in multiply\n",
      "  return multiply(a.ravel()[:, newaxis], b.ravel()[newaxis, :], out)\n",
      "C:\\Users\\frank\\AppData\\Local\\Temp\\ipykernel_3796\\1379949099.py:10: RuntimeWarning: divide by zero encountered in divide\n",
      "  eta = 1 / eta\n"
     ]
    },
    {
     "ename": "ValueError",
     "evalue": "shape mismatch: value array of shape (24,3) could not be broadcast to indexing result of shape (1,8)",
     "output_type": "error",
     "traceback": [
      "\u001b[1;31m---------------------------------------------------------------------------\u001b[0m",
      "\u001b[1;31mValueError\u001b[0m                                Traceback (most recent call last)",
      "Cell \u001b[1;32mIn[43], line 11\u001b[0m\n\u001b[0;32m      9\u001b[0m eta \u001b[38;5;241m=\u001b[39m \u001b[38;5;241m1\u001b[39m \u001b[38;5;241m-\u001b[39m np\u001b[38;5;241m.\u001b[39mouter(sigma[beta], \u001b[38;5;241m1\u001b[39m\u001b[38;5;241m/\u001b[39msigma[alpha])\n\u001b[0;32m     10\u001b[0m eta \u001b[38;5;241m=\u001b[39m \u001b[38;5;241m1\u001b[39m \u001b[38;5;241m/\u001b[39m eta\n\u001b[1;32m---> 11\u001b[0m \u001b[43mOmega\u001b[49m\u001b[43m[\u001b[49m\u001b[43mnp\u001b[49m\u001b[38;5;241;43m.\u001b[39;49m\u001b[43mix_\u001b[49m\u001b[43m(\u001b[49m\u001b[43malpha\u001b[49m\u001b[43m,\u001b[49m\u001b[43m \u001b[49m\u001b[43mbeta\u001b[49m\u001b[43m)\u001b[49m\u001b[43m]\u001b[49m \u001b[38;5;241m=\u001b[39m eta\n\u001b[0;32m     12\u001b[0m Omega[np\u001b[38;5;241m.\u001b[39mix_(beta, alpha)] \u001b[38;5;241m=\u001b[39m eta\u001b[38;5;241m.\u001b[39mT\n\u001b[0;32m     13\u001b[0m L \u001b[38;5;241m=\u001b[39m Omega \u001b[38;5;241m/\u001b[39m (mu \u001b[38;5;241m+\u001b[39m \u001b[38;5;241m1\u001b[39m \u001b[38;5;241m-\u001b[39m Omega)\n",
      "\u001b[1;31mValueError\u001b[0m: shape mismatch: value array of shape (24,3) could not be broadcast to indexing result of shape (1,8)"
     ]
    }
   ],
   "source": [
    "Sigma, P = np.linalg.eigh(Z)\n",
    "alpha = np.where(np.diag(Sigma) > 0)[0]\n",
    "beta = np.where(np.diag(Sigma) <= 0)[0]\n",
    "print(Sigma)\n",
    "print(alpha)\n",
    "Omega = np.zeros((m, m))\n",
    "Omega[np.ix_(alpha, alpha)] = np.ones(len(alpha))\n",
    "sigma = np.diag(Sigma)\n",
    "eta = 1 - np.outer(sigma[beta], 1/sigma[alpha])\n",
    "eta = 1 / eta\n",
    "Omega[np.ix_(alpha, beta)] = eta\n",
    "Omega[np.ix_(beta, alpha)] = eta.T\n",
    "L = Omega / (mu + 1 - Omega)"
   ]
  },
  {
   "cell_type": "code",
   "execution_count": 38,
   "id": "66ed2587",
   "metadata": {},
   "outputs": [
    {
     "name": "stdout",
     "output_type": "stream",
     "text": [
      "\n",
      "-------------- SSNEG ---------------\n",
      "iter |  cost  |  residue  |  time\n"
     ]
    },
    {
     "ename": "ValueError",
     "evalue": "shape mismatch: value array of shape (1000000,0) could not be broadcast to indexing result of shape (0,10000)",
     "output_type": "error",
     "traceback": [
      "\u001b[1;31m---------------------------------------------------------------------------\u001b[0m",
      "\u001b[1;31mValueError\u001b[0m                                Traceback (most recent call last)",
      "Cell \u001b[1;32mIn[38], line 1\u001b[0m\n\u001b[1;32m----> 1\u001b[0m gamma, c, t, res_time, res_norm \u001b[38;5;241m=\u001b[39m \u001b[43mSSN\u001b[49m\u001b[43m(\u001b[49m\u001b[43mdata\u001b[49m\u001b[43m,\u001b[49m\u001b[43m \u001b[49m\u001b[43mlbda_1\u001b[49m\u001b[43m,\u001b[49m\u001b[43m \u001b[49m\u001b[43mlbda_2\u001b[49m\u001b[43m,\u001b[49m\u001b[43m \u001b[49m\u001b[38;5;28;43;01mTrue\u001b[39;49;00m\u001b[43m)\u001b[49m\n",
      "Cell \u001b[1;32mIn[27], line 52\u001b[0m, in \u001b[0;36mSSN\u001b[1;34m(data, reg1, reg2, verbose)\u001b[0m\n\u001b[0;32m     49\u001b[0m mu \u001b[38;5;241m=\u001b[39m norm(r_gamma) \u001b[38;5;241m+\u001b[39m norm(r_X, \u001b[38;5;124m'\u001b[39m\u001b[38;5;124mfro\u001b[39m\u001b[38;5;124m'\u001b[39m)\n\u001b[0;32m     51\u001b[0m \u001b[38;5;66;03m# Compute SSN step\u001b[39;00m\n\u001b[1;32m---> 52\u001b[0m d_gamma, d_X \u001b[38;5;241m=\u001b[39m \u001b[43mSSN_main\u001b[49m\u001b[43m(\u001b[49m\u001b[43mr_gamma\u001b[49m\u001b[43m,\u001b[49m\u001b[43m \u001b[49m\u001b[43mr_X\u001b[49m\u001b[43m,\u001b[49m\u001b[43m \u001b[49m\u001b[43mgamma\u001b[49m\u001b[43m,\u001b[49m\u001b[43m \u001b[49m\u001b[43mX\u001b[49m\u001b[43m,\u001b[49m\u001b[43m \u001b[49m\u001b[43m(\u001b[49m\u001b[43mm\u001b[49m\u001b[43m \u001b[49m\u001b[38;5;241;43m/\u001b[39;49m\u001b[43m \u001b[49m\u001b[38;5;241;43m5\u001b[39;49m\u001b[43m)\u001b[49m\u001b[43m \u001b[49m\u001b[38;5;241;43m*\u001b[39;49m\u001b[43m \u001b[49m\u001b[43mkappa\u001b[49m\u001b[43m \u001b[49m\u001b[38;5;241;43m*\u001b[39;49m\u001b[43m \u001b[49m\u001b[43mmu\u001b[49m\u001b[43m,\u001b[49m\u001b[43m \u001b[49m\u001b[43mQ\u001b[49m\u001b[43m,\u001b[49m\u001b[43m \u001b[49m\u001b[43mPhi\u001b[49m\u001b[43m,\u001b[49m\u001b[43m \u001b[49m\u001b[43mreg1\u001b[49m\u001b[43m,\u001b[49m\u001b[43m \u001b[49m\u001b[43mreg2\u001b[49m\u001b[43m)\u001b[49m\n\u001b[0;32m     54\u001b[0m \u001b[38;5;66;03m# Compute the next iterate\u001b[39;00m\n\u001b[0;32m     55\u001b[0m gamma \u001b[38;5;241m+\u001b[39m\u001b[38;5;241m=\u001b[39m d_gamma\n",
      "Cell \u001b[1;32mIn[26], line 14\u001b[0m, in \u001b[0;36mSSN_main\u001b[1;34m(r_gamma, r_X, gamma, X, mu, Q, Phi, reg1, reg2)\u001b[0m\n\u001b[0;32m     12\u001b[0m eta \u001b[38;5;241m=\u001b[39m \u001b[38;5;241m1\u001b[39m \u001b[38;5;241m-\u001b[39m np\u001b[38;5;241m.\u001b[39mouter(sigma[beta], \u001b[38;5;241m1\u001b[39m\u001b[38;5;241m/\u001b[39msigma[alpha])\n\u001b[0;32m     13\u001b[0m eta \u001b[38;5;241m=\u001b[39m \u001b[38;5;241m1\u001b[39m \u001b[38;5;241m/\u001b[39m eta\n\u001b[1;32m---> 14\u001b[0m \u001b[43mOmega\u001b[49m\u001b[43m[\u001b[49m\u001b[43mnp\u001b[49m\u001b[38;5;241;43m.\u001b[39;49m\u001b[43mix_\u001b[49m\u001b[43m(\u001b[49m\u001b[43malpha\u001b[49m\u001b[43m,\u001b[49m\u001b[43m \u001b[49m\u001b[43mbeta\u001b[49m\u001b[43m)\u001b[49m\u001b[43m]\u001b[49m \u001b[38;5;241m=\u001b[39m eta\n\u001b[0;32m     15\u001b[0m Omega[np\u001b[38;5;241m.\u001b[39mix_(beta, alpha)] \u001b[38;5;241m=\u001b[39m eta\u001b[38;5;241m.\u001b[39mT\n\u001b[0;32m     16\u001b[0m L \u001b[38;5;241m=\u001b[39m Omega \u001b[38;5;241m/\u001b[39m (mu \u001b[38;5;241m+\u001b[39m \u001b[38;5;241m1\u001b[39m \u001b[38;5;241m-\u001b[39m Omega)\n",
      "\u001b[1;31mValueError\u001b[0m: shape mismatch: value array of shape (1000000,0) could not be broadcast to indexing result of shape (0,10000)"
     ]
    }
   ],
   "source": [
    "gamma, c, t, res_time, res_norm = SSN(data, lbda_1, lbda_2, True)"
   ]
  }
 ],
 "metadata": {
  "kernelspec": {
   "display_name": "Python 3 (ipykernel)",
   "language": "python",
   "name": "python3"
  },
  "language_info": {
   "codemirror_mode": {
    "name": "ipython",
    "version": 3
   },
   "file_extension": ".py",
   "mimetype": "text/x-python",
   "name": "python",
   "nbconvert_exporter": "python",
   "pygments_lexer": "ipython3",
   "version": "3.12.0"
  },
  "varInspector": {
   "cols": {
    "lenName": 16,
    "lenType": 16,
    "lenVar": 40
   },
   "kernels_config": {
    "python": {
     "delete_cmd_postfix": "",
     "delete_cmd_prefix": "del ",
     "library": "var_list.py",
     "varRefreshCmd": "print(var_dic_list())"
    },
    "r": {
     "delete_cmd_postfix": ") ",
     "delete_cmd_prefix": "rm(",
     "library": "var_list.r",
     "varRefreshCmd": "cat(var_dic_list()) "
    }
   },
   "types_to_exclude": [
    "module",
    "function",
    "builtin_function_or_method",
    "instance",
    "_Feature"
   ],
   "window_display": false
  }
 },
 "nbformat": 4,
 "nbformat_minor": 5
}

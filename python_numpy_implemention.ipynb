{
 "cells": [
  {
   "cell_type": "markdown",
   "id": "eb15c80d",
   "metadata": {},
   "source": [
    "# Python numpy implementation "
   ]
  },
  {
   "cell_type": "code",
   "execution_count": 1,
   "id": "23466759",
   "metadata": {},
   "outputs": [],
   "source": [
    "import resource\n",
    "import numpy as np\n",
    "from numpy.linalg import norm\n",
    "from time import time\n",
    "import psutil # You will need this library if you are on windows to calculate the ressources usage of the algorithme"
   ]
  },
  {
   "cell_type": "code",
   "execution_count": 2,
   "id": "02a0a45c",
   "metadata": {},
   "outputs": [],
   "source": [
    "%matplotlib inline\n",
    "\n",
    "from scipy.stats import norm as norms\n",
    "\n",
    "import ot\n",
    "\n",
    "import matplotlib.pyplot as plt\n",
    "import matplotlib.gridspec as gridspec\n",
    "### Quasi-random sequences\n",
    "from sobol_seq import i4_sobol_generate\n",
    "\n",
    "### Kernel SoS OT functions\n",
    "from optim import interior_point\n",
    "from utils import make_kernels, transport_cost, transport_1D, potential_1D\n",
    "from help_functions import moving_average"
   ]
  },
  {
   "cell_type": "code",
   "execution_count": 3,
   "id": "309e745e",
   "metadata": {},
   "outputs": [],
   "source": [
    "from SSN import SSN_numpy"
   ]
  },
  {
   "cell_type": "code",
   "execution_count": 4,
   "id": "1894a88a",
   "metadata": {},
   "outputs": [],
   "source": [
    "def kernel_cost(gamma, data, reg):\n",
    "\n",
    "    KX2 = data['KX2']\n",
    "    KY2 = data['KY2']\n",
    "    KX3 = data['KX3']\n",
    "    KY3 = data['KY3']\n",
    "\n",
    "    tmp1 = np.mean(KX3) + np.mean(KY3)\n",
    "    tmp2 = (np.mean(KX2, axis=0) + np.mean(KY2, axis=0)) @ gamma\n",
    "    c = (tmp1 - tmp2) / (2 * reg)\n",
    "\n",
    "    return c\n"
   ]
  },
  {
   "cell_type": "code",
   "execution_count": 5,
   "id": "19ece5ca",
   "metadata": {},
   "outputs": [],
   "source": [
    "def gradient(gamma, X, Phi, Q, z, reg1, reg2):\n",
    "    \"\"\"\n",
    "    Compute the gradient of the objective function.\n",
    "\n",
    "    Args:\n",
    "        gamma (np.ndarray): m*1 vector.\n",
    "        X (np.ndarray): m*m matrix.\n",
    "        Phi (np.ndarray): m*m matrix.\n",
    "        Q (np.ndarray): m*m matrix.\n",
    "        z (np.ndarray): m*1 vector.\n",
    "        reg1 (float): Regularization parameter.\n",
    "        reg2 (float): Regularization parameter.\n",
    "\n",
    "    Returns:\n",
    "        g_gamma (np.ndarray): m*1 vector.\n",
    "        g_X (np.ndarray): m*m matrix.\n",
    "    \"\"\"\n",
    "    m = len(z)\n",
    "    H = Phi.T @ X @ Phi\n",
    "    g_gamma = (Q @ gamma - z) / (2 * reg2) - np.diag(H)\n",
    "    g_X = Phi @ np.diag(gamma) @ Phi.T + reg1 * np.eye(m)\n",
    "    return g_gamma, g_X\n"
   ]
  },
  {
   "cell_type": "code",
   "execution_count": 6,
   "id": "16daf0f1",
   "metadata": {},
   "outputs": [],
   "source": [
    "def residue(gamma, X, Phi, Q, z, reg1, reg2):\n",
    "    \"\"\"\n",
    "    Compute the residue of the objective function.\n",
    "\n",
    "    Args:\n",
    "        gamma (np.ndarray): m*1 vector.\n",
    "        X (np.ndarray): m*m matrix.\n",
    "        Phi (np.ndarray): m*m matrix.\n",
    "        Q (np.ndarray): m*m matrix.\n",
    "        z (np.ndarray): m*1 vector.\n",
    "        reg1 (float): Regularization parameter.\n",
    "        reg2 (float): Regularization parameter.\n",
    "\n",
    "    Returns:\n",
    "        r_gamma (np.ndarray): m*1 vector.\n",
    "        r_X (np.ndarray): m*m matrix.\n",
    "    \"\"\"\n",
    "    # Compute the gradient\n",
    "    g_gamma, g_X = gradient(gamma, X, Phi, Q, z, reg1, reg2)  \n",
    "    X_new = X - g_X\n",
    "    V, D = np.linalg.eigh(X_new)\n",
    "    X_new = V @ np.maximum(D, 0) @ V.T\n",
    "    r_X = X - X_new\n",
    "    \n",
    "    return g_gamma, r_X\n"
   ]
  },
  {
   "cell_type": "code",
   "execution_count": 7,
   "id": "6776cd2f",
   "metadata": {},
   "outputs": [],
   "source": [
    "\n",
    "def SSN_main(r_gamma, r_X, gamma, X, mu, Q, Phi, reg1, reg2):\n",
    "    m = len(gamma)\n",
    "\n",
    "    # The first step\n",
    "    Z = X - (Phi @ np.diag(gamma) @ Phi.T + reg1 * np.eye(m))\n",
    "    Sigma, P = np.linalg.eigh(Z)\n",
    "    Sigma = Sigma[::-1]\n",
    "    P = P[:, ::-1]\n",
    "    alpha = np.where(Sigma > 0)[0]\n",
    "    beta = np.where(Sigma <= 0)[0]\n",
    "    Omega = np.zeros((m, m))\n",
    "    Omega[np.ix_(alpha, alpha)] = np.ones(len(alpha))\n",
    "    eta = 1 - np.outer(Sigma[beta], 1/Sigma[alpha])\n",
    "    eta = 1 / eta\n",
    "    Omega[np.ix_(alpha, beta)] = eta.T\n",
    "    Omega[np.ix_(beta, alpha)] = eta\n",
    "    L = Omega / (mu + 1 - Omega)\n",
    "\n",
    "    T = r_X + P @ (L * (P.T @ r_X @ P)) @ P.T\n",
    "    H = Phi.T @ T @ Phi\n",
    "    d_gamma = - r_gamma - np.diag(H) / (1 + mu)\n",
    "    d_X = -r_X\n",
    "\n",
    "    # The second step (CG)\n",
    "    y = d_gamma\n",
    "    K = P.T @ Phi\n",
    "    H = K.T @ (L * (K @ np.diag(y) @ K.T)) @ K\n",
    "    r = d_gamma - ((0.5 / reg2) * Q @ y + mu * y + np.diag(H))\n",
    "    p = r\n",
    "    rr = r.T @ r\n",
    "    for i in range(min(m // 5, 50)):\n",
    "        H = K.T @ (L * (K @ np.diag(p) @ K.T)) @ K\n",
    "        Ap = (0.5 / reg2) * Q @ p + mu * p + np.diag(H)\n",
    "        ss1 = rr / (p.T @ Ap)\n",
    "        y += ss1 * p\n",
    "        r -= ss1 * Ap\n",
    "        if np.linalg.norm(r) < 1e-6:\n",
    "            break\n",
    "        ss2 = r.T @ r / rr\n",
    "        p = r + ss2 * p\n",
    "        H = K.T @ (L * (K @ np.diag(y) @ K.T)) @ K\n",
    "        r = d_gamma - ((0.5 / reg2) * Q @ y + mu * y + np.diag(H))\n",
    "        rr = r.T @ r\n",
    "    d_gamma = y\n",
    "    d_X = (d_X + P @ (L * (P.T @ d_X @ P)) @ P.T) / (1 + mu)\n",
    "\n",
    "    # The third step\n",
    "    d_X -= P @ (L * (K @ np.diag(d_gamma) @ K.T)) @ P.T\n",
    "\n",
    "    return d_gamma, d_X\n"
   ]
  },
  {
   "cell_type": "code",
   "execution_count": 8,
   "id": "21ee514f",
   "metadata": {},
   "outputs": [],
   "source": [
    "def SSN(data, alph_1, alph_2, beta_0, beta_1, beta_2, theta_upper,\n",
    "        theta_lower, reg1, reg2, EG_rate, nIter, verbose,usage=False,Windows=True):\n",
    "\n",
    "    \"\"\"\n",
    "    Solve the conic optimization model using a semi-smooth Newton method.\n",
    "\n",
    "    Input:\n",
    "    - data: dict, contient les données nécessaires pour le modèle\n",
    "    - reg1: float, régularisation 1\n",
    "    - reg2: float, régularisation 2\n",
    "    - verbose: bool, indique si les détails doivent être imprimés\n",
    "    -usage: bool, indique si les détails sur l'utilisation du CPU doivent être affichés\n",
    "    -Windows: bool, indiquez True si vous êtes sur Windows afin que le calcul de l'utilisation du CPU soient calculée\n",
    "    Output:\n",
    "    - gamma: array, vecteur de taille m\n",
    "    - c: float, coût\n",
    "    - t: float, temps de résolution\n",
    "    - res_time: list, historique du temps de résolution\n",
    "    - res_norm: list, historique de la norme du résidu\n",
    "    -usage_lst: une liste avec l'utilisation par seconde du CPU pour chaque ittération\n",
    "    -details: une liste qui contient plus d'informations sur l'utilisation des ressources pour chaque ittération\n",
    "    \"\"\"\n",
    "    # Input data\n",
    "    M = data['M']\n",
    "    Phi = data['Phi']\n",
    "    KX1 = data['KX1']\n",
    "    KY1 = data['KY1']\n",
    "    KX2 = data['KX2']\n",
    "    KY2 = data['KY2']\n",
    "\n",
    "    # Initialization\n",
    "    m = len(M)\n",
    "    Q = KX1 + KY1\n",
    "    z = np.mean(KX2, axis=0) + np.mean(KY2, axis=0) - 2 * reg2 * M\n",
    "\n",
    "    gamma = np.ones(m) /m\n",
    "    v_gamma = gamma \n",
    "    X = np.ones((m, m)) /(m*m)\n",
    "    v_X = X\n",
    "    theta = 1.0    \n",
    "    r_gamma, r_X = residue(gamma, X, Phi, Q, z, reg1, reg2)\n",
    "    mu = theta * (norm(r_gamma) + norm(r_X, 'fro'))\n",
    "    res_time = [0]\n",
    "    res_norm = [mu]\n",
    "\n",
    "    if verbose:\n",
    "        print('\\n-------------- SSNEG ---------------')\n",
    "        print('iter |  cost  |  residue  |  time')\n",
    "    \n",
    "    tstart = time()\n",
    "    if Windows:\n",
    "        start_usage=psutil.cpu_times()\n",
    "    else:\n",
    "        start_usage = resource.getrusage(resource.RUSAGE_SELF)\n",
    "    \n",
    "    usage_lst=[(0,0)]\n",
    "    details=[]\n",
    "    # Main loop\n",
    "    for iter in range(1, nIter + 1):\n",
    "\n",
    "        # Compute EG step\n",
    "        g_gamma, g_x = gradient(v_gamma, v_X, Phi, Q, z, reg1, reg2)\n",
    "        v_gamma_mid = v_gamma - EG_rate * g_gamma\n",
    "        v_X_mid = v_X - EG_rate * g_x\n",
    "        g_gamma, g_x = gradient(v_gamma_mid, v_X_mid, Phi, Q, z, reg1, reg2)\n",
    "        v_gamma = v_gamma - EG_rate * g_gamma\n",
    "        v_X = v_X - EG_rate * g_x\n",
    "\n",
    "\n",
    "        # Compute the residue function\n",
    "        mu = norm(r_gamma) + norm(r_X, 'fro')\n",
    "\n",
    "        # Compute SSN step\n",
    "        d_gamma, d_X = SSN_main(r_gamma, r_X, gamma, X,  (m / 5) * theta * mu, Q, Phi, reg1, reg2)\n",
    "\n",
    "        \n",
    "        # Compute the next iterate\n",
    "        r_gamma_, r_X_ = residue(gamma + d_gamma, X + d_X, Phi, Q, z, reg1, reg2)\n",
    "        r_gamma_v, r_X_v = residue(v_gamma, v_X, Phi, Q, z, reg1, reg2)\n",
    "        if (norm(r_gamma_) + norm(r_X_, 'fro')) < (norm(r_gamma_v) + norm(r_X_v, 'fro')):\n",
    "            gamma += d_gamma\n",
    "            X += d_X\n",
    "        else:\n",
    "            gamma = v_gamma\n",
    "            X = v_X\n",
    "\n",
    "        # Update the parameter theta\n",
    "        r_gamma, r_X = residue(gamma, X, Phi, Q, z, reg1, reg2)\n",
    "        rho_div_norm = -(np.dot(r_gamma, d_gamma) + np.trace(np.dot(r_X.T, d_X))) / (norm(d_gamma) ** 2 + norm(d_X, 'fro') ** 2)\n",
    "        if rho_div_norm >= alph_2:\n",
    "            theta = max(beta_0 * theta, theta_lower)\n",
    "        elif rho_div_norm >= alph_1:\n",
    "            theta = beta_1 * theta\n",
    "        else:\n",
    "            theta  = min(theta_upper, beta_2 * theta)\n",
    "\n",
    "        if mu < 5e-3:  # 5e-3\n",
    "            c = kernel_cost(gamma, data, reg2)\n",
    "            t = time() - tstart\n",
    "            res_time.append(t)\n",
    "            res_norm.append(mu)\n",
    "            if verbose:\n",
    "                print(f'{iter:5}|{c:3.2e}|{mu:3.2e}|{t:3.2e}')\n",
    "            break\n",
    "\n",
    "        if iter % 50 == 0:\n",
    "            c = kernel_cost(gamma, data, reg2)\n",
    "            t = time() - tstart\n",
    "            res_time.append(t)\n",
    "            res_norm.append(mu)\n",
    "            if verbose:\n",
    "                print(f'{iter:5}|{c:3.2e}|{mu:3.2e}|{t:3.2e}')\n",
    "        \n",
    "        if usage:\n",
    "            print(f'{iter:5}|{cpu_time:3.2e}')\n",
    "        \n",
    "        \n",
    "        c = kernel_cost(gamma, data, reg2)\n",
    "        t = time() - tstart\n",
    "        if iter==1:\n",
    "            if Windows:\n",
    "                current_usage = psutil.cpu_times()\n",
    "                details.append((iter,psutil.cpu_stats(),psutil.cpu_percent(),psutil.cpu_freq()))\n",
    "                cpu_time= current_usage.user - start_usage.user\n",
    "            else:\n",
    "                current_usage = resource.getrusage(resource.RUSAGE_SELF)\n",
    "                details.append((iter,current_usage))\n",
    "                cpu_time = current_usage.ru_utime -start_usage.ru_utime\n",
    "        else:\n",
    "            if Windows:\n",
    "                current_usage = psutil.cpu_times()\n",
    "                details.append((iter,psutil.cpu_stats(),psutil.cpu_percent(),psutil.cpu_freq()))\n",
    "                cpu_time = current_usage.user  - usage_lst[-1][1]\n",
    "            else:    \n",
    "                current_usage = resource.getrusage(resource.RUSAGE_SELF)\n",
    "                details.append((iter,current_usage))\n",
    "                cpu_time = current_usage.ru_utime - usage_lst[-1][1]\n",
    "        usage_lst.append((iter,cpu_time))\n",
    "    return gamma, c, t, res_time, res_norm,usage_lst,details"
   ]
  },
  {
   "cell_type": "markdown",
   "id": "d0e050e0",
   "metadata": {},
   "source": [
    "# Experiments"
   ]
  },
  {
   "cell_type": "markdown",
   "id": "45bf6027",
   "metadata": {},
   "source": [
    "## 0) Visualization"
   ]
  },
  {
   "cell_type": "code",
   "execution_count": 9,
   "id": "e1df27ff",
   "metadata": {},
   "outputs": [],
   "source": [
    "def plot_distributions(P, mu, nu, transport_1D, gamma, X, X_fill, lbda_2, kernel, l, sob, n, Y):\n",
    "    plt.clf()\n",
    "\n",
    "    fig = plt.figure(figsize=(5, 5))\n",
    "\n",
    "    gs = gridspec.GridSpec(3, 3, wspace=0.0, hspace=0.0)\n",
    "\n",
    "    xp, yp = np.where(P > 0)\n",
    "\n",
    "    na, nb = P.shape\n",
    "\n",
    "    xa = np.arange(na)\n",
    "    xb = np.arange(nb)\n",
    "\n",
    "    Txa = np.argmax(P, 1)\n",
    "\n",
    "    ax1 = plt.subplot(gs[0, 1:])\n",
    "    ax1.plot(xa, mu, 'r', label='Source distribution')\n",
    "    ax1.fill_between(xa, mu, color='red', alpha=0.1)\n",
    "    plt.ylim(ymin=0)\n",
    "    plt.tick_params(axis='both', which='both', bottom=False, top=False, labelbottom=False, right=False,\n",
    "                    left=False, labelleft=False)\n",
    "    ax1.axis('off')\n",
    "\n",
    "    ax2 = plt.subplot(gs[1:, 0])\n",
    "    ax2.plot((nu), xb, 'b', label='Target distribution')\n",
    "    ax2.fill_between((nu)[:], xb[:], color='blue', interpolate=True, alpha=0.1)\n",
    "    ax2.set_xlim(xmin=0)\n",
    "    ax2.invert_xaxis()\n",
    "    ax2.axis('off')\n",
    "\n",
    "    ax3 = plt.subplot(gs[1:, 1:], sharex=ax1, sharey=ax2)\n",
    "    ax3.tick_params(axis='both', which='both', bottom=False, top=False, labelbottom=False, right=False,\n",
    "                    left=False, labelleft=False)\n",
    "\n",
    "    ax3.plot(xa, Txa, linewidth=2, color='black', ls='--', label='True map')\n",
    "\n",
    "    x = np.linspace(0, 1, len(xa))\n",
    "    TX = transport_1D(x, gamma, X, X_fill, lbda_2, kernel=kernel, l=l)\n",
    "\n",
    "    ax3.plot(xa, TX * na, color='r', lw=2, label='Inferred map')\n",
    "\n",
    "    ax1.scatter(X * na, mu[(n * X).astype(int)], label='mu samples', marker='x', color='r', s=50)\n",
    "    ax2.scatter(nu[np.minimum((n * Y).astype(int), n - 1)], Y * na,\n",
    "                label='nu samples', marker='x', color='b', s=50)\n",
    "\n",
    "    ax3.scatter(sob[:, 0] * na, sob[:, 1] * na, color='violet', s=20, label='Filling samples')\n",
    "\n",
    "    plt.tight_layout()\n",
    "    plt.legend(fontsize=14)\n",
    "    plt.show()"
   ]
  },
  {
   "cell_type": "markdown",
   "id": "01c52313",
   "metadata": {},
   "source": [
    "## 1) Synthetic data"
   ]
  },
  {
   "cell_type": "markdown",
   "id": "450c9dce",
   "metadata": {},
   "source": [
    "### a) nsample = nfill = 50"
   ]
  },
  {
   "cell_type": "code",
   "execution_count": 10,
   "id": "9a403690",
   "metadata": {},
   "outputs": [],
   "source": [
    "nfill = 50\n",
    "nsamples = 50"
   ]
  },
  {
   "cell_type": "code",
   "execution_count": 11,
   "id": "7b2a6a74",
   "metadata": {},
   "outputs": [],
   "source": [
    "n = 2000\n",
    "\n",
    "\n",
    "mu1 = [0.7, 0.3]\n",
    "mu2 = [0.2, 0.5, 0.75]\n",
    "\n",
    "\n",
    "t1 = [0.4, 0.6]\n",
    "t2 = [0.2, 0.2, 0.6]\n",
    "\n",
    "x = np.linspace(0, 1, n)\n",
    "    \n",
    "r_tmp = []    \n",
    "for mode in mu1:\n",
    "    r_tmp.append(norms.pdf(x,mode, 0.09))\n",
    "        \n",
    "c_tmp = []    \n",
    "for mode in mu2:\n",
    "    c_tmp.append(norms.pdf(x,mode, 0.075))\n",
    "        \n",
    "mu = np.dot(t1,r_tmp)\n",
    "nu = np.dot(t2,c_tmp)"
   ]
  },
  {
   "cell_type": "code",
   "execution_count": 12,
   "id": "364bde6f",
   "metadata": {},
   "outputs": [],
   "source": [
    "np.random.seed(123)\n",
    "\n",
    "u1 = np.random.rand(nsamples)\n",
    "u2 = np.random.rand(nsamples)\n",
    "\n",
    "X = np.zeros(nsamples)\n",
    "Y = np.zeros(nsamples)\n",
    "\n",
    "for i in range(nsamples):\n",
    "    if u1[i] < t1[0]:\n",
    "        X[i] = np.random.randn() * .1 + mu1[0]\n",
    "    else:\n",
    "        X[i] = np.random.randn() * .1 + mu1[1]\n",
    "    if u2[i] < t2[0]:\n",
    "        Y[i] = np.random.randn() * .075 + mu2[0]\n",
    "    elif u2[i] < t2[1] + t2[0]:\n",
    "        Y[i] = np.random.randn() * .075 + mu2[1]\n",
    "    else:\n",
    "        Y[i] = np.random.randn() * .075 + mu2[2]"
   ]
  },
  {
   "cell_type": "code",
   "execution_count": 13,
   "id": "5968082f",
   "metadata": {},
   "outputs": [],
   "source": [
    "### Sobol quasi-random samples to fill the space X x Y. \n",
    "sob = i4_sobol_generate(2 , nfill, skip = 3000)\n",
    "\n",
    "\n",
    "## Add some points in the corners (optional)\n",
    "sob = np.insert(sob, 0, np.array([1e-2, 1e-2]))\n",
    "sob = np.insert(sob, 0, np.array([1-1e-2, 1-1e-2]))\n",
    "sob = np.insert(sob, 0, np.array([1e-2, 1-1e-2]))\n",
    "sob = np.insert(sob, 0, np.array([1.-1e-2, 1e-2]))\n",
    "\n",
    "sob = sob.reshape(-1, 2)[:-4 , :]\n",
    "\n",
    "\n",
    "X_fill = sob[:, :1]\n",
    "Y_fill = sob[:, 1:] "
   ]
  },
  {
   "cell_type": "code",
   "execution_count": 14,
   "id": "29414137",
   "metadata": {},
   "outputs": [],
   "source": [
    "kernel = 'gaussian'\n",
    "l = 0.1\n",
    "Phi, M, Kx1, Ky1, Kx2, Ky2, Kx3, Ky3 = make_kernels(X[:, None], Y[:, None], X_fill, Y_fill, l=l, kernel = kernel)"
   ]
  },
  {
   "cell_type": "code",
   "execution_count": 15,
   "id": "db04b97d",
   "metadata": {},
   "outputs": [],
   "source": [
    "data = {}\n",
    "data[\"Phi\"] = Phi\n",
    "data[\"KX1\"] = Kx1\n",
    "data[\"KX2\"] = Kx2\n",
    "data[\"KX3\"] = Kx3\n",
    "data[\"KY1\"] = Ky1\n",
    "data[\"KY2\"] = Ky2\n",
    "data[\"KY3\"] = Ky3\n",
    "data[\"M\"] = M\n"
   ]
  },
  {
   "cell_type": "code",
   "execution_count": 16,
   "id": "95cf2def",
   "metadata": {},
   "outputs": [],
   "source": [
    "## Regularization parameters\n",
    "\n",
    "lbda_1 = 1 / nfill\n",
    "lbda_2 =  1 / np.sqrt(nsamples)"
   ]
  },
  {
   "cell_type": "code",
   "execution_count": 17,
   "id": "06eaf8a5",
   "metadata": {},
   "outputs": [],
   "source": [
    "### Compute OT from samples\n",
    "x = np.linspace(0., 1., n)\n",
    "\n",
    "M_ot = ((x[:, None] - x)**2) / 2\n",
    "P, log = ot.emd(mu / mu.sum(), nu / nu.sum(), M_ot, log = True)\n",
    "sampled_ot = (P * M_ot).sum()"
   ]
  },
  {
   "cell_type": "code",
   "execution_count": 21,
   "id": "66ed2587",
   "metadata": {},
   "outputs": [],
   "source": [
    "gamma, c, t, res_time, res_norm,cpu_time,details = SSN(data, alph_1=1e-6, alph_2=1, beta_0=0.5, beta_1=2,\n",
    "                                      beta_2=5, theta_upper=15, theta_lower=1e-16, reg1=lbda_1,\n",
    "                                      reg2=lbda_2, EG_rate=0.00029, nIter=2800, verbose=False,Windows=True)"
   ]
  },
  {
   "cell_type": "code",
   "execution_count": 22,
   "id": "5addd020",
   "metadata": {},
   "outputs": [
    {
     "data": {
      "text/plain": [
       "<Figure size 640x480 with 0 Axes>"
      ]
     },
     "metadata": {},
     "output_type": "display_data"
    },
    {
     "data": {
      "image/png": "[encoded data removed]",
      "text/plain": [
       "<Figure size 500x500 with 3 Axes>"
      ]
     },
     "metadata": {},
     "output_type": "display_data"
    }
   ],
   "source": [
    "plot_distributions(P, mu, nu, transport_1D, gamma, X, X_fill, lbda_2, kernel, l, sob, n, Y)"
   ]
  },
  {
   "cell_type": "code",
   "execution_count": 23,
   "id": "ba7827c6",
   "metadata": {},
   "outputs": [
    {
     "data": {
      "image/png": "[encoded data removed]",
      "text/plain": [
       "<Figure size 640x480 with 1 Axes>"
      ]
     },
     "metadata": {},
     "output_type": "display_data"
    }
   ],
   "source": [
    "# Before plotting we smooth the observations\n",
    "cpu_time_smoothed=moving_average(cpu_time,50)\n",
    "# Ploting\n",
    "plt.plot(*zip(*cpu_time_smoothed), marker='+', linestyle='-')\n",
    "plt.title('CPU  usage per itteration')\n",
    "plt.xlabel('Iteration')\n",
    "plt.ylabel('CPU usage smoothed')\n",
    "plt.grid(True)\n",
    "plt.show()"
   ]
  },
  {
   "cell_type": "code",
   "execution_count": null,
   "id": "cb4cabee",
   "metadata": {},
   "outputs": [],
   "source": [
    "SSN=SSN_numpy(data, alph_1=1e-6, alph_2=1, beta_0=0.5, beta_1=2,\n",
    "                                      beta_2=5, theta_upper=15, theta_lower=1e-16, reg1=lbda_1,\n",
    "                                      reg2=lbda_2, EG_rate=0.00029, nIter=2800)\n",
    "gamma, c, t, res_time, res_norm,cpu_time,details=SSN.fit( verbose=False,Windows=False)"
   ]
  }
 ],
 "metadata": {
  "kernelspec": {
   "display_name": "Python 3 (ipykernel)",
   "language": "python",
   "name": "python3"
  },
  "language_info": {
   "codemirror_mode": {
    "name": "ipython",
    "version": 3
   },
   "file_extension": ".py",
   "mimetype": "text/x-python",
   "name": "python",
   "nbconvert_exporter": "python",
   "pygments_lexer": "ipython3",
   "version": "3.11.6"
  },
  "varInspector": {
   "cols": {
    "lenName": 16,
    "lenType": 16,
    "lenVar": 40
   },
   "kernels_config": {
    "python": {
     "delete_cmd_postfix": "",
     "delete_cmd_prefix": "del ",
     "library": "var_list.py",
     "varRefreshCmd": "print(var_dic_list())"
    },
    "r": {
     "delete_cmd_postfix": ") ",
     "delete_cmd_prefix": "rm(",
     "library": "var_list.r",
     "varRefreshCmd": "cat(var_dic_list()) "
    }
   },
   "types_to_exclude": [
    "module",
    "function",
    "builtin_function_or_method",
    "instance",
    "_Feature"
   ],
   "window_display": false
  }
 },
 "nbformat": 4,
 "nbformat_minor": 5
}

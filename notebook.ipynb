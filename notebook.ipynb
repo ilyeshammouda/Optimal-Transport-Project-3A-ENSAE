{
 "cells": [
  {
   "cell_type": "code",
   "execution_count": 1,
   "metadata": {},
   "outputs": [],
   "source": [
    "import numpy as np\n",
    "from numpy.linalg import norm\n",
    "from time import time\n",
    "from help_functions import diag_matrice_croissant"
   ]
  },
  {
   "cell_type": "code",
   "execution_count": 2,
   "metadata": {},
   "outputs": [],
   "source": [
    "def kernel_cost(gamma, data, reg):\n",
    "\n",
    "    KX2 = data['KX2']\n",
    "    KY2 = data['KY2']\n",
    "    KX3 = data['KX3']\n",
    "    KY3 = data['KY3']\n",
    "\n",
    "    tmp1 = np.mean(KX3) + np.mean(KY3)\n",
    "    tmp2 = (np.mean(KX2, axis=0) + np.mean(KY2, axis=0)) @ gamma\n",
    "    c = (tmp1 - tmp2) / (2 * reg)\n",
    "\n",
    "    return c\n"
   ]
  },
  {
   "cell_type": "code",
   "execution_count": 3,
   "metadata": {},
   "outputs": [],
   "source": [
    "def gradient(gamma, X, Phi, Q, z, reg1, reg2):\n",
    "    m = len(z)\n",
    "    H = Phi.T @ X @ Phi\n",
    "    g_gamma = (Q @ gamma - z) / (2 * reg2) - np.diag(H)\n",
    "    g_X = Phi @ np.diag(gamma) @ Phi.T + reg1 * np.eye(m)\n",
    "    return g_gamma, g_X"
   ]
  },
  {
   "cell_type": "code",
   "execution_count": null,
   "metadata": {},
   "outputs": [],
   "source": [
    "def residue(gamma, X, Phi, Q, z, reg1, reg2):\n",
    "    r_gamma, g_X = gradient(gamma, X, Phi, Q, z, reg1, reg2)\n",
    "    X_new = X - g_X\n",
    "    D, V = np.linalg.eig(X_new)\n",
    "    X_new = V @ np.maximum(D, 0) @ V.T\n",
    "    r_X = X - X_new\n",
    "    return r_gamma, r_X"
   ]
  },
  {
   "cell_type": "code",
   "execution_count": null,
   "metadata": {},
   "outputs": [],
   "source": [
    "def SSN_main(r_gamma, r_X, gamma, X, mu, Q, Phi, reg1, reg2):\n",
    "  '''\n",
    "  Cette partie correspond\n",
    "  '''\n",
    "  m = len(gamma)\n",
    "\n",
    "  # the first step\n",
    "  Z = X - (Phi @ np.diag(gamma) @ Phi.T + reg1 * np.eye(m)) #On commence par calculer la la matrice Z_{k}:= X_{k}-(Phi^{*}(gamma_{k})+lambda_{1}I) Pour simplifier les calculs on écrit Phi^{*} sous sa forme matricielle plutot.\n",
    "  Sigma, P = diag_matrice_croissant(Z)# On diagonalise Z et on réarrange la décomposition de façon à ce que les valeurs propres soient triées par ordre croissant\n",
    "  sigma=Sigma.diagonal() #Une liste avec les valeurs propres de Z dans l'ordre décroissant.\n",
    "  alpha = sigma[sigma > 0]#On crée une liste des valeurs propres de Z strictement positifs\n",
    "  beta = sigma[sigma <= 0] #On crée une liste des valeurs propres de Z strictement positifs\n",
    "\n",
    "  #Construction de la matrice Omega\n",
    "  \n",
    "  Omega = np.zeros((m, m)) #On va désormais créer la matrice Omega. Pour cela, on prend une matrice nulle qu'on remplit comme décrit dans l'article\n",
    "  Omega[:len(alpha), :len(alpha)] = np.ones((len(alpha), len(alpha))) #D'abord, on va créer la partie supérieure gauche remplie de 1 là où les valeurs propres sont positives.\n",
    "  eta = np.array([[a / (b-a) for b in beta] for a in alpha])# On construit la matrice eta comme décrit dans l'article.\n",
    "  Omega[:len(alpha), len(alpha):len(alpha)+len(beta)] = eta #On remplit la partie supérieure droite de Omega avec eta.\n",
    "  Omega[len(alpha):, :len(alpha)] = eta.T #On remplit la partie inférieure gauche par la tranposée de eta ce qui finit de construire Omega.\n",
    "  \n",
    "  #Une fois on a obtenu Omega on peut construire Gamma et L\n",
    "  \n",
    "  Gamma=np.diag(np.diag(Omega)) #On crée la matrice Gamma qui est la diagonale de Omega.\n",
    "  L=np.diag(np.diag(Gamma)/(mu-np.diag(Gamma)+1)) #On crée la matrice L comme décrit dans le lemme 4.3. \n",
    "  \n",
    "  #On va maintenant construire la matrice Psi à partir de la matrice Omega.\n",
    "  \n",
    "  Psi=np.zeros((m, m))# On va créer la matrice Psi pour la construction de l'opérateur T.\n",
    "  Psi[:len(alpha), :len(alpha)] = (1/mu)*np.ones((len(alpha), len(alpha)))\n",
    "\n",
    "  T = r_X + P @ (L * (P.T @ r_X @ P)) @ P.T\n",
    "  H = Phi.T @ T @ Phi\n",
    "  d_gamma = -r_gamma - np.diag(H) / (1 + mu)\n",
    "  d_X = -r_X\n",
    "\n",
    "  # the second step (CG)\n",
    "  y = d_gamma\n",
    "  K = P.T @ Phi\n",
    "  H = K.T @ (L * (K @ np.diag(y) @ K.T)) @ K\n",
    "  r = d_gamma - ((0.5 / reg2) * Q @ y + mu * y + np.diag(H))\n",
    "  p = r\n",
    "  rr = r @ r.T\n",
    "  for i in range(min(m // 5, 50)):\n",
    "        H = K.T @ (L * (K @ np.diag(p) @ K.T)) @ K\n",
    "        Ap = (0.5 / reg2) * Q @ p + mu * p + np.diag(H)\n",
    "        ss1 = rr / (p @ Ap.T)\n",
    "        y = y + ss1 * p\n",
    "        r = r - ss1 * Ap\n",
    "        if np.linalg.norm(r) < 1e-6:\n",
    "            break\n",
    "        ss2 = r @ r.T / rr\n",
    "        p = r + ss2 * p\n",
    "        H = K.T @ (L * (K @ np.diag(y) @ K.T)) @ K\n",
    "        r = d_gamma - ((0.5 / reg2) * Q @ y + mu * y + np.diag(H))\n",
    "        rr = r @ r.T\n",
    "  d_gamma = y\n",
    "  d_X = (d_X + P @ (L * (P.T @ d_X @ P)) @ P.T) / (1 + mu)\n",
    "\n",
    "    # the third step\n",
    "  d_X = d_X - (P @ (L * (K @ np.diag(d_gamma) @ K.T)) @ P.T)\n",
    "\n",
    "  return d_gamma, d_X\n"
   ]
  },
  {
   "cell_type": "code",
   "execution_count": null,
   "metadata": {},
   "outputs": [],
   "source": [
    "\n",
    "\n",
    "def SSN(data, reg1, reg2, verbose=False):\n",
    "    # input data\n",
    "    M = data['M']\n",
    "    Phi = data['Phi']\n",
    "    KX1 = data['KX1']\n",
    "    KY1 = data['KY1']\n",
    "    KX2 = data['KX2']\n",
    "    KY2 = data['KY2']\n",
    "\n",
    "    # initialization\n",
    "    m = len(M)\n",
    "    Q = KX1 + KY1\n",
    "    z = np.mean(KX2, axis=0) + np.mean(KY2, axis=0) - 2 * reg2 * M\n",
    "    nIter = 300\n",
    "\n",
    "    gamma = np.ones(m) / m\n",
    "    X = np.ones((m, m)) / (m * m)\n",
    "    kappa = 1.0\n",
    "    r_gamma, r_X = residue(gamma, X, Phi, Q, z, reg1, reg2)\n",
    "    mu = norm(r_gamma) + norm(r_X, 'fro')\n",
    "    res_time = [0]\n",
    "    res_norm = [mu]\n",
    "\n",
    "    if verbose:\n",
    "        print('\\n-------------- SSNEG ---------------')\n",
    "        print('iter |  cost  |  residue  |  time')\n",
    "\n",
    "    tstart = time()\n",
    "\n",
    "    # main loop\n",
    "    for iter in range(1, nIter + 1):\n",
    "        # compute the residue function\n",
    "        mu = norm(r_gamma) + norm(r_X, 'fro')\n",
    "\n",
    "        # compute SSN step\n",
    "        d_gamma, d_X = SSN_main(r_gamma, r_X, gamma, X, (m / 5) * kappa * mu, Q, Phi, reg1, reg2)\n",
    "\n",
    "        # compute the next iterate\n",
    "        gamma = gamma + d_gamma\n",
    "        X = X + d_X\n",
    "\n",
    "        # update the parameter kappa.\n",
    "        r_gamma, r_X = residue(gamma, X, Phi, Q, z, reg1, reg2)\n",
    "        rho = -(np.dot(r_gamma, d_gamma) + np.trace(np.dot(r_X.T, d_X))) / (norm(d_gamma) ** 2 + norm(d_X, 'fro') ** 2)\n",
    "        if rho >= 1:\n",
    "            kappa = max(0.5 * kappa, 1e-16)\n",
    "        elif rho >= 1e-6:\n",
    "            kappa = 1.2 * kappa\n",
    "        else:\n",
    "            kappa = 25 * kappa\n",
    "\n",
    "        if mu < 1e-8:  # 5e-3\n",
    "            c = kernel_cost(gamma, data, reg2)\n",
    "            t = time() - tstart\n",
    "            res_time.append(t)\n",
    "            res_norm.append(mu)\n",
    "            if verbose:\n",
    "                print('%5.0f|%3.2e|%3.2e|%3.2e' % (iter, c, mu, t))\n",
    "            break\n",
    "\n",
    "        if iter % 30 == 0:\n",
    "            c = kernel_cost(gamma, data, reg2)\n",
    "            t = time() - tstart\n",
    "            res_time.append(t)\n",
    "            res_norm.append(mu)\n",
    "            if verbose:\n",
    "                print('%5.0f|%3.2e|%3.2e|%3.2e' % (iter, c, mu, t))\n",
    "\n",
    "        c = kernel_cost(gamma, data, reg2)\n",
    "        t = time() - tstart\n",
    "\n",
    "    return gamma, c, t, res_time, res_norm\n"
   ]
  },
  {
   "cell_type": "code",
   "execution_count": 61,
   "metadata": {},
   "outputs": [],
   "source": [
    "X=np.ones((4,4))"
   ]
  },
  {
   "cell_type": "code",
   "execution_count": 62,
   "metadata": {},
   "outputs": [],
   "source": [
    "diag=np.diag(X)"
   ]
  },
  {
   "cell_type": "code",
   "execution_count": 64,
   "metadata": {},
   "outputs": [],
   "source": [
    "A = np.diag(np.diag(X))"
   ]
  },
  {
   "cell_type": "code",
   "execution_count": 66,
   "metadata": {},
   "outputs": [],
   "source": [
    "L = np.diag(np.diag(A)/(np.diag(A)+1))"
   ]
  },
  {
   "cell_type": "code",
   "execution_count": 67,
   "metadata": {},
   "outputs": [
    {
     "data": {
      "text/plain": [
       "array([[0.5, 0. , 0. , 0. ],\n",
       "       [0. , 0.5, 0. , 0. ],\n",
       "       [0. , 0. , 0.5, 0. ],\n",
       "       [0. , 0. , 0. , 0.5]])"
      ]
     },
     "execution_count": 67,
     "metadata": {},
     "output_type": "execute_result"
    }
   ],
   "source": [
    "L"
   ]
  },
  {
   "cell_type": "code",
   "execution_count": 6,
   "metadata": {},
   "outputs": [],
   "source": [
    "Sigma,P=diag_matrice_croissant(X)"
   ]
  },
  {
   "cell_type": "code",
   "execution_count": 27,
   "metadata": {},
   "outputs": [],
   "source": [
    "sigma=Sigma.diagonal()"
   ]
  },
  {
   "cell_type": "code",
   "execution_count": 39,
   "metadata": {},
   "outputs": [],
   "source": [
    "alpha = sigma[sigma > 0]#On crée une liste des valeurs propres de Z strictement positifs\n",
    "beta = sigma[sigma <= 0]"
   ]
  }
 ],
 "metadata": {
  "kernelspec": {
   "display_name": "base",
   "language": "python",
   "name": "python3"
  },
  "language_info": {
   "codemirror_mode": {
    "name": "ipython",
    "version": 3
   },
   "file_extension": ".py",
   "mimetype": "text/x-python",
   "name": "python",
   "nbconvert_exporter": "python",
   "pygments_lexer": "ipython3",
   "version": "3.9.12"
  }
 },
 "nbformat": 4,
 "nbformat_minor": 2
}
